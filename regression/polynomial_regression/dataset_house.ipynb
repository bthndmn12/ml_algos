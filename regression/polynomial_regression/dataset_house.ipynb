{
 "cells": [
  {
   "cell_type": "code",
   "execution_count": 1,
   "metadata": {},
   "outputs": [
    {
     "data": {
      "text/html": [
       "<div>\n",
       "<style scoped>\n",
       "    .dataframe tbody tr th:only-of-type {\n",
       "        vertical-align: middle;\n",
       "    }\n",
       "\n",
       "    .dataframe tbody tr th {\n",
       "        vertical-align: top;\n",
       "    }\n",
       "\n",
       "    .dataframe thead th {\n",
       "        text-align: right;\n",
       "    }\n",
       "</style>\n",
       "<table border=\"1\" class=\"dataframe\">\n",
       "  <thead>\n",
       "    <tr style=\"text-align: right;\">\n",
       "      <th></th>\n",
       "      <th>city</th>\n",
       "      <th>district</th>\n",
       "      <th>neighborhood</th>\n",
       "      <th>room</th>\n",
       "      <th>living_room</th>\n",
       "      <th>area</th>\n",
       "      <th>age</th>\n",
       "      <th>floor</th>\n",
       "      <th>price</th>\n",
       "    </tr>\n",
       "  </thead>\n",
       "  <tbody>\n",
       "    <tr>\n",
       "      <th>0</th>\n",
       "      <td>usak</td>\n",
       "      <td>banaz</td>\n",
       "      <td>cumhuriyet</td>\n",
       "      <td>3</td>\n",
       "      <td>1</td>\n",
       "      <td>150</td>\n",
       "      <td>20</td>\n",
       "      <td>-2</td>\n",
       "      <td>70</td>\n",
       "    </tr>\n",
       "    <tr>\n",
       "      <th>1</th>\n",
       "      <td>usak</td>\n",
       "      <td>merkez</td>\n",
       "      <td>kemaloz</td>\n",
       "      <td>2</td>\n",
       "      <td>1</td>\n",
       "      <td>110</td>\n",
       "      <td>8</td>\n",
       "      <td>1</td>\n",
       "      <td>85</td>\n",
       "    </tr>\n",
       "    <tr>\n",
       "      <th>2</th>\n",
       "      <td>usak</td>\n",
       "      <td>merkez</td>\n",
       "      <td>kemaloz</td>\n",
       "      <td>1</td>\n",
       "      <td>1</td>\n",
       "      <td>60</td>\n",
       "      <td>0</td>\n",
       "      <td>4</td>\n",
       "      <td>70</td>\n",
       "    </tr>\n",
       "    <tr>\n",
       "      <th>3</th>\n",
       "      <td>usak</td>\n",
       "      <td>merkez</td>\n",
       "      <td>durak</td>\n",
       "      <td>1</td>\n",
       "      <td>1</td>\n",
       "      <td>50</td>\n",
       "      <td>10</td>\n",
       "      <td>5</td>\n",
       "      <td>70</td>\n",
       "    </tr>\n",
       "    <tr>\n",
       "      <th>4</th>\n",
       "      <td>usak</td>\n",
       "      <td>merkez</td>\n",
       "      <td>cumhuriyet</td>\n",
       "      <td>4</td>\n",
       "      <td>1</td>\n",
       "      <td>300</td>\n",
       "      <td>11</td>\n",
       "      <td>7</td>\n",
       "      <td>165</td>\n",
       "    </tr>\n",
       "  </tbody>\n",
       "</table>\n",
       "</div>"
      ],
      "text/plain": [
       "   city district neighborhood  room  living_room  area  age  floor  price\n",
       "0  usak    banaz   cumhuriyet     3            1   150   20     -2     70\n",
       "1  usak   merkez      kemaloz     2            1   110    8      1     85\n",
       "2  usak   merkez      kemaloz     1            1    60    0      4     70\n",
       "3  usak   merkez        durak     1            1    50   10      5     70\n",
       "4  usak   merkez   cumhuriyet     4            1   300   11      7    165"
      ]
     },
     "execution_count": 1,
     "metadata": {},
     "output_type": "execute_result"
    }
   ],
   "source": [
    "import pandas as pd\n",
    "import numpy as np\n",
    "import matplotlib.pyplot as plt\n",
    "\n",
    "# Load the data\n",
    "\n",
    "data = pd.read_csv('../../datasets/data.csv')\n",
    "\n",
    "data.head()"
   ]
  },
  {
   "cell_type": "code",
   "execution_count": 2,
   "metadata": {},
   "outputs": [
    {
     "name": "stdout",
     "output_type": "stream",
     "text": [
      "(8136, 9)\n",
      "Index(['city', 'district', 'neighborhood', 'room', 'living_room', 'area',\n",
      "       'age', 'floor', 'price'],\n",
      "      dtype='object')\n",
      "              room  living_room         area          age        floor  \\\n",
      "count  8136.000000  8136.000000  8136.000000  8136.000000  8136.000000   \n",
      "mean      2.402286     1.012168   131.274459    12.514626     2.284661   \n",
      "std       1.284885     0.398182   177.969818    12.939832     2.078388   \n",
      "min       1.000000     0.000000     5.000000     0.000000    -3.000000   \n",
      "25%       2.000000     1.000000    80.000000     4.000000     1.000000   \n",
      "50%       2.000000     1.000000   110.000000    10.000000     2.000000   \n",
      "75%       3.000000     1.000000   145.000000    20.000000     3.000000   \n",
      "max      41.000000    25.000000  9000.000000   600.000000    21.000000   \n",
      "\n",
      "              price  \n",
      "count  8.136000e+03  \n",
      "mean   1.266101e+05  \n",
      "std    1.698828e+06  \n",
      "min    1.000000e+00  \n",
      "25%    1.200000e+04  \n",
      "50%    1.800000e+04  \n",
      "75%    3.200000e+04  \n",
      "max    1.200000e+08  \n"
     ]
    }
   ],
   "source": [
    "print(data.shape)\n",
    "print(data.columns)\n",
    "print(data.describe())"
   ]
  },
  {
   "cell_type": "code",
   "execution_count": 3,
   "metadata": {},
   "outputs": [
    {
     "name": "stdout",
     "output_type": "stream",
     "text": [
      "city            0\n",
      "district        0\n",
      "neighborhood    0\n",
      "room            0\n",
      "living_room     0\n",
      "area            0\n",
      "age             0\n",
      "floor           0\n",
      "price           0\n",
      "dtype: int64\n"
     ]
    }
   ],
   "source": [
    "# check for missing values\n",
    "print(data.isnull().sum())"
   ]
  },
  {
   "cell_type": "code",
   "execution_count": 4,
   "metadata": {},
   "outputs": [
    {
     "name": "stdout",
     "output_type": "stream",
     "text": [
      "['usak' 'afyonkarahisar' 'izmir' 'mugla' 'aydin' 'denizli' 'kutahya'\n",
      " 'manisa']\n",
      "city\n",
      "afyonkarahisar      95\n",
      "aydin              771\n",
      "denizli            879\n",
      "izmir             3678\n",
      "kutahya             34\n",
      "manisa             213\n",
      "mugla             2444\n",
      "usak                22\n",
      "Name: city, dtype: int64\n"
     ]
    }
   ],
   "source": [
    "# turn some categorical variables into numerical\n",
    "\n",
    "# check the unique values of the categorical variables on city column\n",
    "print(data['city'].unique())\n",
    "\n",
    "# check the unique values of the categorical\n",
    "print(data.groupby('city')['city'].count())"
   ]
  },
  {
   "cell_type": "code",
   "execution_count": 5,
   "metadata": {},
   "outputs": [
    {
     "name": "stdout",
     "output_type": "stream",
     "text": [
      "['banaz' 'merkez' 'cay' 'dinar' 'bolvadin' 'suhut' 'tire' 'konak' 'selcuk'\n",
      " 'karabaglar' 'torbali' 'balcova' 'menderes' 'narlidere' 'kemalpasa'\n",
      " 'guzelbahce' 'buca' 'cigli' 'cesme' 'menemen' 'foca' 'karsiyaka'\n",
      " 'bayrakli' 'bornova' 'karaburun' 'seferihisar' 'gaziemir' 'odemis'\n",
      " 'dikili' 'urla' 'kinik' 'bergama' 'aliaga' 'bayindir' 'koycegiz' 'ortaca'\n",
      " 'bodrum' 'milas' 'mentese' 'fethiye' 'dalaman' 'kavaklidere' 'ula'\n",
      " 'marmaris' 'incirliova' 'kusadasi' 'nazilli' 'efeler' 'didim' 'soke'\n",
      " 'cine' 'germencik' 'buharkent' 'merkezefendi' 'pamukkale' 'saraykoy'\n",
      " 'civril' 'acipayam' 'cameli' 'cardak' 'tavas' 'honaz' 'kiraz' 'yatagan'\n",
      " 'datca' 'seydikemer' 'tavsanli' 'simav' 'yunusemre' 'sehzadeler'\n",
      " 'turgutlu' 'akhisar' 'salihli' 'saruhanli' 'soma' 'alasehir' 'demirci']\n",
      "district\n",
      "acipayam       2\n",
      "akhisar       55\n",
      "alasehir       3\n",
      "aliaga         7\n",
      "balcova      116\n",
      "            ... \n",
      "turgutlu      44\n",
      "ula           49\n",
      "urla         131\n",
      "yatagan        4\n",
      "yunusemre     49\n",
      "Name: district, Length: 77, dtype: int64\n"
     ]
    }
   ],
   "source": [
    "# turn some categorical variables into numerical\n",
    "\n",
    "# check the unique values of the categorical variables on district column\n",
    "print(data['district'].unique())\n",
    "\n",
    "# check the unique values of the categorical\n",
    "print(data.groupby('district')['district'].count())"
   ]
  },
  {
   "cell_type": "code",
   "execution_count": 6,
   "metadata": {},
   "outputs": [
    {
     "name": "stdout",
     "output_type": "stream",
     "text": [
      "['cumhuriyet' 'kemaloz' 'durak' 'unalan' 'fatih' 'ataturk' 'kurtulus'\n",
      " 'hasan_karaagac' 'yenice' 'erenler' 'ali_ihsan_pasa'\n",
      " 'erkmen_fevzi_cakmak' 'istiklal' 'kanlica' 'esentepe'\n",
      " 'maresal_fevzi_cakmak' 'dortyol' 'sahipata' 'osman_gazi' 'asagi' 'aktas'\n",
      " 'sirinevler' 'dumlupinar' 'veysel_karani' 'pinarli' 'dervis_pasa'\n",
      " 'esrefpasa' 'imaret' 'marulcu' 'karsiyaka' 'haci_musa' 'yunus_emre'\n",
      " 'kocatepe' 'nazmi_saatci' 'mecidiye' 'selcuklu' 'zafer' 'sazi' '4_eylul'\n",
      " 'alsancak' '14_mayis' 'peker' 'yedi_eylul' 'koruturk'\n",
      " 'gumuldur_fevzi_cakmak' 'muratbey' 'ilica' 'ulucak_mustafa_kemal_ataturk'\n",
      " 'goztepe' 'mustafa_kemal_pasa' 'kurucesme' 'yeni_mahalle' 'alacati'\n",
      " 'doganay' 'altinyunus' '16_eylul' 'fevzi_cakmak' 'adatepe'\n",
      " 'kazim_karabekir' 'aydogdu' 'haciveli' 'bostanli' 'efeler' 'tepekule'\n",
      " 'yenikale' 'guven' 'fevzipasa' 'balatcik' 'kazimdirik' 'adalet'\n",
      " 'mordogan' 'erzene' 'kuner' 'colak_ibrahim_bey' 'cakabey' 'evka_4'\n",
      " 'yaylacik' 'hurriyet' 'cetin_emec' 'mithatpasa' 'calikusu' 'candarli'\n",
      " 'zubeyde_hanim' 'sevgi' 'murathan' 'bahcelievler' 'irmak' 'aksoy'\n",
      " 'evka_3' 'yesilbaglar' 'yesil' 'yali' 'vatan' 'sakarya' 'germiyan'\n",
      " 'egitim' 'kazim_dirik' 'gazi_mustafa_kemal' 'camikebir' 'mavisehir'\n",
      " 'inonu' 'guvendik' 'ardic' 'arap_hasan' 'gulbahce' 'semikler' 'belen'\n",
      " 'muhittin_erener' 'gazi_osman_pasa' 'atasehir' 'postacilar' 'ulus' 'onur'\n",
      " 'osmangazi' 'laleli' 'mehmet_ali_akman' 'manavkuyu' 'devrim' 'yelalti'\n",
      " 'emrez' 'mimar_sinan' 'yildiz' 'gulyaka' 'fikri_altay' 'siteler'\n",
      " 'guzelyali' 'cennetoglu' '75_yil' 'ismet_inonu' 'atilla' 'kahramanlar'\n",
      " 'barbaros' '29_ekim' 'akincilar' 'mustafa_kemal_ataturk' 'merkez'\n",
      " 'turkcedit' 'iskele' 'r_sevket_ince' 'doganlar' 'kilic_reis' 'kultur'\n",
      " 'maltepe' 'kemal_reis' 'salimbey' 'suleyman_demirel' 'ornekkoy'\n",
      " 'gunaltay' 'ulucak_cumhuriyet' 'esenlik' 'ahmet_taner_kislali'\n",
      " 'zeytinalani' 'yigitler' 'kemalpasa' 'tepekoy' 'torbali' 'payamli'\n",
      " 'kozagac' 'mermerli' 'maliyeciler' '2_inonu' 'ovacik' '9_eylul'\n",
      " 'gazikent' 'basin_sitesi' 'cukuralti' 'esenyali' 'sogukkuyu' 'reisdere'\n",
      " 'baris' 'halkapinar' 'sahilevleri' 'gumuldur_inonu' 'dedebasi' 'musalla'\n",
      " 'kucuk_cigli' 'inkilap' 'golcukler' 'dicle' 'oglananasi_ataturk'\n",
      " 'armutlu_85_yil_cumhuriyet' 'bahar' 'kizilay' 'sasal' 'kalabak'\n",
      " 'menderes' 'camlikule' 'guzeltepe' 'metin_oktay' 'ertugrul' 'sirinkapi'\n",
      " 'denizli' 'kozbeyli' 'dalyan' 'murat_reis' 'yenigun' 'tersane' 'tuna'\n",
      " 'anafartalar' 'dokuz_eylul' 'sifne' 'bengisu' 'kasimpasa' 'yamanlar'\n",
      " 'general_kazim_ozalp' 'mevlana' 'gumuldur_cumhuriyet' 'adnan_suvari'\n",
      " 'poligon' 'beyazevler' 'fahrettin_altay' 'rafet_pasa' 'bayrakli'\n",
      " 'altintas' 'cankaya' 'piri_reis' '85_yil_cumhuriyet' '30_agustos'\n",
      " 'evka_5' 'goksu' 'buca_koop' 'emmioglu' 'rustem' 'dagkizilca' 'imbatli'\n",
      " 'atakent' 'ahmet_efendi' 'ahmetbeyli' 'haci_isa' 'uzundere' 'refet_bele'\n",
      " 'icmeler' 'tepecik' 'camlipinar' 'hidirlik' 'kahramandere' 'ugur_mumcu'\n",
      " 'teleferik' 'develi' 'donanmaci' 'karacaoglan' 'akin_simav'\n",
      " 'vali_rahmi_bey' 'turgut_reis' 'mansuroglu' 'korfez' 'nergiz' 'birlik'\n",
      " 'ozbek' 'cuneytbey' 'yenikent' 'dolaylar' 'salihler' 'ildir' 'ciftlik'\n",
      " 'yagcilar' 'bengiler' 'yelki' 'oglananasi_cumhuriyet' 'bozyaka'\n",
      " 'alpaslan' 'mustafa_kemal' 'boyalik' 'celal_bayar' 'turkmen' 'atifbey'\n",
      " 'uckuyular' 'yurdoglu' 'izkent' 'turkmenkoy' 'reis' 'gazipasa' 'bahariye'\n",
      " 'evka_6' 'ismetpasa' 'armutlu_hurriyet' 'yemislik' 'yakakent' 'camtepe'\n",
      " 'm_fevzi_cakmak' 'adnan_menderes' 'duzce' 'akdeniz' 'pancar'\n",
      " 'harmandali_gazi_mustafa_kemal_ataturk' 'bademler' 'yesilova' 'yazibasi'\n",
      " 'cinarli' 'kuscular' 'kemal_ataturk' 'alaybey' 'aziziye'\n",
      " 'org_nafiz_gurman' 'umurbey' 'gunesli' 'inciralti' 'egekent' 'cakmakli'\n",
      " 'umut' 'cakaltepe' 'camlicay' 'emek' 'yasar_kemal' 'goncalar' 'altievler'\n",
      " 'limanreis' 'yesiltepe' 'kabakum' 'camli' 'bahriye_ucok' 'firat'\n",
      " 'tahsin_yazici' 'orhanli' 'torasan' 'altay' 'koyici' 'sirinkent'\n",
      " 'aydinlikevler' 'ali_fuat_cebesoy' 'selvili' 'narli' 'saip'\n",
      " 'gorece_cumhuriyet' 'gazi' 'cicek' 'zafertepe' 'ulamis' 'balikliova'\n",
      " 'selcuk' 'villakent' 'aydin' 'cay' 'ilipinar' 'fuat_edip_baksi'\n",
      " 'zeytinlik' 'turabiye' 'gumuldur_ataturk' 'yenibagarasi' 'buca_osb'\n",
      " 'yesil_pinar' 'kosukavak' 'ayvatlar' 'ayrancilar' 'incirli_pinar'\n",
      " 'tulbentli' 'camlik' 'sigacik' 'huzur' 'isa_bey' 'kavaklidere' 'gurpinar'\n",
      " 'ozdere_cumhuriyet' 'bademli' 'catalkaya' 'tinaztepe' 'sasalli_merkez'\n",
      " 'ergene' 'yahselli' 'gunerli' 'salih_omurtak' 'esatpasa' 'gumuspala'\n",
      " 'yenikoy' 'yukarikizilca_merkez' 'ufuk' 'demirkopru' 'muammer_akar'\n",
      " 'dogancay' 'gaziler' 'gelisim' 'beskopru' 'koyunbaba' 'meselik'\n",
      " 'eskicesme' 'emirbeyazit' 'karaculha' 'akarca' 'gulpinar' 'karaburun'\n",
      " 'yangi' 'muslihittin' 'yalikavak' 'inlice' 'yeni' 'ulucami' 'golkoy'\n",
      " 'gulluk' 'babatasi' 'islamhaneleri' 'kotekli' 'akyarlar' 'konacik'\n",
      " 'dogan' 'peksimet' 'hamitkoy' 'beyobasi' 'koprubasi' 'dirmil' 'geris'\n",
      " 'bitez' 'haci_ilyas' 'muskebi' 'tepearasi' 'guvercinlik' 'akcaalan'\n",
      " 'kumbahce' 'gurece' 'karacali' 'becin' 'cayli' 'oren' 'tasyaka'\n",
      " 'armutalan' 'pazaryeri' 'yayla' 'orhaniye' 'bogazici' 'foca' 'turkbuku'\n",
      " 'gumusluk' 'kucukbuk' 'kemaliye' 'orta' 'etiler' 'tuzcu' 'karanfil'\n",
      " 'cinar' 'celebi' 'sira' 'caldiran' 'gunluce' 'sehit_mehmet' 'bagcilar'\n",
      " 'mesrutiyet' 'universite' 'konak' 'guzelcamli' 'isabeyli' 'akbuk'\n",
      " 'ikicesmelik' 'zeybek' 'karaova' 'guzelhisar' 'yavansu' 'gerenkova' 'ege'\n",
      " 'cuma' 'girne' 'davutlar' 'ovaeymir' 'hasanefendi_ramazan_pasa' 'hisar'\n",
      " 'bayraklidede' 'degirmendere' 'kadinlar_denizi' 'sogucak'\n",
      " 'koprulu_veysipasa' 'sumer' 'altinkum' 'ata' 'zeytinkoy' 'yenicamii'\n",
      " 'istasyon' 'kemer' 'hacifeyzullah' 'kadikalesi' 'uceylul' 'yilmazkoy'\n",
      " 'hamitabat' 'ortaklar' 'mesudiye' 'yedieylul' 'yamac' 'sevketiye'\n",
      " 'isikli' 'alacamescit' 'caferli' 'agacli' 'imamkoy' 'karacay' 'turan'\n",
      " 'sandikli' 'celtikci' 'yaylakoy' 'karakollar' 'mersindere' 'camiatik'\n",
      " 'degirmenonu' 'muratdede' 'yunusemre' 'topraklik' 'kuspinar'\n",
      " 'sirakapilar' 'akkonak' 'incilipinar' 'feslegen' 'karaman' 'gultepe'\n",
      " 'mehmetcik' 'selcuk_bey' 'karahasanli' 'saraylar' 'asmalievler' 'kinikli'\n",
      " 'kayalar' 'hacikaplanlar' 'bagbasi' 'kervansaray' 'atalar' 'gumuscay'\n",
      " '15_mayis' 'sevindik' 'bala' 'kizilcasogut' 'deliktas' 'gerzele'\n",
      " 'pelitlibag' 'mehmet_akif_ersoy' 'kocadere' 'servergazi' 'merkez_efendi'\n",
      " 'saruhan' 'hallaclar' 'altintop' 'sirinkoy' 'ilbade' 'yenisafak' 'zumrut'\n",
      " 'gokpinar' 'dokuzkavaklar' 'tekke' 'cankurtaran' 'bereketler'\n",
      " '1200_evler' 'kayihan' 'cakmak' 'garipkoy' 'yenisehir' 'gemispinari'\n",
      " 'karakurt' 'karacaagac' 'doga' 'gungor' 'umit' 'aktepe' 'seyhan'\n",
      " 'yaylayurt' 'birgi' 'mersin_alani' 'ocakli' 'sekiz_eylul' 'evka_2'\n",
      " 'fahrettinpasa' 'karabaglar' 'sirintepe' 'golcuk' 'ataturk_osb'\n",
      " 'egemenlik' '2_kadriye' 'kazimpasa' 'ahihidir' 'toparlar' 'patlangic'\n",
      " 'tuzla' 'yaniklar' 'kargi' 'karakoy' 'torba' 'bozalan' 'kizlan' 'turunc'\n",
      " 'yahsi' 'gocek' 'gundogan' 'tepe' 'cirkan' 'oludeniz' 'yerkesik'\n",
      " 'karabag' 'okcular' 'resadiye' 'akyaka' 'guzelyurt' 'kiyikislacik' 'yaka'\n",
      " 'farilya' 'kemeralti' 'cildir' 'gumbet' 'turgut' 'akinci' 'camkoy'\n",
      " 'karginkuru' 'emecik' 'sogutluyurt' 'ismet_pasa' 'bayir' 'dugerek'\n",
      " 'umurca' 'turgutreis' 'karagedik' 'mergenli' 'karagozler' 'kavakarasi'\n",
      " 'serefler' 'sarigerme' 'hatipirimi' 'dogusbelen' 'gunes' 'yesilyurt'\n",
      " 'cami' 'yokusbasi' 'datca' 'dorttepe' 'menteseoglu' 'kizilkaya'\n",
      " 'catalarik' 'carsi' 'kazikli' 'kumkoy' 'selimiye' 'yazi' 'karamehmet'\n",
      " 'turkkuyusu' 'hacirustem' 'eksiliyurt' 'yaras' 'kizilyaka' 'akcaova'\n",
      " 'dalakli' 'ahmet_cavus_hayitli' 'sindi' 'hisaronu' 'kizilagac' 'yesilkoy'\n",
      " 'cevat_sakir' 'terzialiler' 'ortakoy' 'kiran' 'derekoy' 'koru'\n",
      " 'gerisburnu' 'sogut' 'citlik' 'golbasi' 'beldibi' 'esenkoy' 'kiramettin'\n",
      " 'mumcular' 'eskikoy' 'alparslan' 'incirkoy' 'kesikkapi' 'kayakoy'\n",
      " 'burgaz' 'gokova' 'bezkese' 'gaybiefendi' 'meydan' 'fuatpasa' 'saray'\n",
      " 'parmakoren' 'akkent' 'dagcesme' 'alipasa' 'yildirim_beyazit' 'servi'\n",
      " 'balikli' 'omerbey' 'g_kemal' 'muradiye' '2_anafartalar' 'kuyualan'\n",
      " 'goktasli' 'dincer' 'resat_bey' 'ulu_camii' 'acarlar' 'haci_ishak' 'pasa'\n",
      " 'uncubozkoy' 'eski_cami' 'kirveli' 'ergenekon' 'efendi' 'arda' 'albayrak'\n",
      " 'selvilitepe' 'hafsa_sultan' 'topcuasim' 'ragip_bey' 'mesir' 'kocacesme'\n",
      " 'medar' 'tunca' 'yoruk' 'karaali' '1_anafartalar' 'yarhasanlar'\n",
      " 'sehitler' 'subasi' 'tevfikiye' 'kethuda' 'istasyonalti' 'durasilli'\n",
      " 'utku' 'dere' 'seyit_ahmet' 'gokceahmet' 'ayni_ali' 'has_hoca'\n",
      " 'saripinar' 'cengiz_topel' 'kecili_koy' 'akmescit' 'dilsikar' 'kafaca'\n",
      " 'yakakoy' 'pinar' 'gokce' 'turkevleri' 'kapukargin' 'pinarlibelen'\n",
      " 'kizilbel' 'portakallik' 'dikmekavak' 'sariana' 'ugurlu' 'gulagzi'\n",
      " 'fevziye' 'arikbasi' 'haciabti' 'ekincik' 'gokceovacik' 'cokertme'\n",
      " 'zaferler' 'firuzpasa_gazipasa' 'ayazkiyi' 'seyh']\n",
      "neighborhood\n",
      "1200_evler        1\n",
      "14_mayis          4\n",
      "15_mayis         32\n",
      "16_eylul         26\n",
      "1_anafartalar     5\n",
      "                 ..\n",
      "zeytinalani      19\n",
      "zeytinkoy        61\n",
      "zeytinlik         1\n",
      "zubeyde_hanim    11\n",
      "zumrut            8\n",
      "Name: neighborhood, Length: 740, dtype: int64\n"
     ]
    }
   ],
   "source": [
    "# turn some categorical variables into numerical\n",
    "\n",
    "# check the unique values of the categorical variables on neighborhood column\n",
    "print(data['neighborhood'].unique())\n",
    "\n",
    "# check the unique values of the categorical\n",
    "print(data.groupby('neighborhood')['neighborhood'].count())"
   ]
  },
  {
   "cell_type": "code",
   "execution_count": 3,
   "metadata": {},
   "outputs": [
    {
     "name": "stdout",
     "output_type": "stream",
     "text": [
      "\n",
      "Data after converting categorical columns to numerical:\n",
      "      city  district  neighborhood  room  living_room  area  age  floor  \\\n",
      "0        7         5           166     3            1   150   20     -2   \n",
      "1        7        49           418     2            1   110    8      1   \n",
      "2        7        49           418     1            1    60    0      4   \n",
      "3        7        49           204     1            1    50   10      5   \n",
      "4        7        49           166     4            1   300   11      7   \n",
      "...    ...       ...           ...   ...          ...   ...  ...    ...   \n",
      "8131     6        55           318     3            1   151   10      2   \n",
      "8132     6        73           277     3            1   130   20      2   \n",
      "8133     6         9           641     3            1   130   12      2   \n",
      "8134     6         9           143     2            1    90   31      0   \n",
      "8135     6         9           284     3            1   285   13      1   \n",
      "\n",
      "        price  \n",
      "0          70  \n",
      "1          85  \n",
      "2          70  \n",
      "3          70  \n",
      "4         165  \n",
      "...       ...  \n",
      "8131    16000  \n",
      "8132    20500  \n",
      "8133    35000  \n",
      "8134    38000  \n",
      "8135  1700000  \n",
      "\n",
      "[8136 rows x 9 columns]\n"
     ]
    }
   ],
   "source": [
    "from sklearn.preprocessing import LabelEncoder\n",
    "\n",
    "# Initialize the LabelEncoder\n",
    "le = LabelEncoder()\n",
    "\n",
    "# Apply LabelEncoder to each categorical column\n",
    "data['city'] = le.fit_transform(data['city'])\n",
    "data['district'] = le.fit_transform(data['district'])\n",
    "data['neighborhood'] = le.fit_transform(data['neighborhood'])\n",
    "\n",
    "# Print the final dataframe\n",
    "print(\"\\nData after converting categorical columns to numerical:\")\n",
    "print(data)"
   ]
  },
  {
   "cell_type": "code",
   "execution_count": 4,
   "metadata": {},
   "outputs": [
    {
     "data": {
      "image/png": "[encoded data removed]",
      "text/plain": [
       "<Figure size 1200x1000 with 2 Axes>"
      ]
     },
     "metadata": {},
     "output_type": "display_data"
    }
   ],
   "source": [
    "# create heatmap to check the correlation between the variables\n",
    "\n",
    "import seaborn as sns\n",
    "import matplotlib.pyplot as plt\n",
    "\n",
    "plt.figure(figsize=(12, 10))\n",
    "sns.heatmap(data.corr(), annot=True, cmap='coolwarm', linewidths=2)\n",
    "plt.show()"
   ]
  },
  {
   "cell_type": "code",
   "execution_count": 54,
   "metadata": {},
   "outputs": [],
   "source": [
    "# Split the data into training and testing sets\n",
    "\n",
    "train_data = data.sample(frac=0.8, random_state=42)\n",
    "test_data = data.drop(train_data.index)\n",
    "\n",
    "# Split the data into features and target\n",
    "\n",
    "X_train = train_data.drop('price', axis=1)\n",
    "y_train = train_data['price']\n",
    "\n",
    "X_test = test_data.drop('price', axis=1)\n",
    "y_test = test_data['price']"
   ]
  },
  {
   "cell_type": "code",
   "execution_count": 49,
   "metadata": {},
   "outputs": [],
   "source": [
    "# Split the data into training and testing sets\n",
    "\n",
    "from sklearn.model_selection import train_test_split\n",
    "\n",
    "X_train, X_test, y_train, y_test = train_test_split(data.drop('price', axis=1), data['price'], test_size=0.2, random_state=0)\n",
    "\n"
   ]
  },
  {
   "cell_type": "code",
   "execution_count": null,
   "metadata": {},
   "outputs": [
    {
     "data": {
      "text/plain": [
       "array([[776027.06031396],\n",
       "       [-99862.54473464],\n",
       "       [ 75568.08566786],\n",
       "       [ 15468.15270958],\n",
       "       [-79797.73736435]])"
      ]
     },
     "metadata": {},
     "output_type": "display_data"
    }
   ],
   "source": [
    "model.predict(X_test[0:5])"
   ]
  },
  {
   "cell_type": "code",
   "execution_count": 55,
   "metadata": {},
   "outputs": [
    {
     "name": "stdout",
     "output_type": "stream",
     "text": [
      "(6509, 8)\n",
      "(6509,)\n"
     ]
    }
   ],
   "source": [
    "print(X_train.shape)\n",
    "print(y_train.shape)"
   ]
  },
  {
   "cell_type": "code",
   "execution_count": 56,
   "metadata": {},
   "outputs": [
    {
     "name": "stdout",
     "output_type": "stream",
     "text": [
      "(1627, 8)\n",
      "(1627,)\n"
     ]
    }
   ],
   "source": [
    "print(X_test.shape)\n",
    "print(y_test.shape)"
   ]
  },
  {
   "cell_type": "code",
   "execution_count": 98,
   "metadata": {},
   "outputs": [
    {
     "data": {
      "text/plain": [
       "-270398.66107308865"
      ]
     },
     "execution_count": 98,
     "metadata": {},
     "output_type": "execute_result"
    }
   ],
   "source": [
    "77641667.11437032 - 77912065.7754434"
   ]
  },
  {
   "cell_type": "code",
   "execution_count": 57,
   "metadata": {},
   "outputs": [],
   "source": [
    "# turn the data into numpy arrays\n",
    "\n",
    "X_train = X_train.values\n",
    "y_train = y_train.values\n",
    "\n",
    "X_test = X_test.values\n",
    "y_test = y_test.values\n",
    "\n"
   ]
  },
  {
   "cell_type": "code",
   "execution_count": 58,
   "metadata": {},
   "outputs": [],
   "source": [
    "X_train = np.array(X_train).reshape(6509, 8)\n",
    "y_train = np.array(y_train).reshape(6509, 1)\n",
    "\n",
    "X_test = np.array(X_test).reshape(1627, 8)  \n",
    "y_test = np.array(y_test).reshape(1627, 1)"
   ]
  },
  {
   "cell_type": "code",
   "execution_count": 59,
   "metadata": {},
   "outputs": [
    {
     "data": {
      "text/plain": [
       "array([  6,  48, 449,   1,   1,  50,   7,   0], dtype=int64)"
      ]
     },
     "execution_count": 59,
     "metadata": {},
     "output_type": "execute_result"
    }
   ],
   "source": [
    "X_train.shape\n",
    "X_train[0]"
   ]
  },
  {
   "cell_type": "code",
   "execution_count": 173,
   "metadata": {},
   "outputs": [
    {
     "ename": "ModuleNotFoundError",
     "evalue": "No module named 'cupy'",
     "output_type": "error",
     "traceback": [
      "\u001b[1;31m---------------------------------------------------------------------------\u001b[0m",
      "\u001b[1;31mModuleNotFoundError\u001b[0m                       Traceback (most recent call last)",
      "Cell \u001b[1;32mIn[173], line 7\u001b[0m\n\u001b[0;32m      5\u001b[0m \u001b[38;5;28;01mfrom\u001b[39;00m \u001b[38;5;21;01mmatplotlib\u001b[39;00m\u001b[38;5;21;01m.\u001b[39;00m\u001b[38;5;21;01manimation\u001b[39;00m \u001b[38;5;28;01mimport\u001b[39;00m FuncAnimation\n\u001b[0;32m      6\u001b[0m \u001b[38;5;28;01mimport\u001b[39;00m \u001b[38;5;21;01msys\u001b[39;00m\n\u001b[1;32m----> 7\u001b[0m \u001b[38;5;28;01mimport\u001b[39;00m \u001b[38;5;21;01mcupy\u001b[39;00m\n\u001b[0;32m      9\u001b[0m \u001b[38;5;28;01mclass\u001b[39;00m \u001b[38;5;21;01mPolyRegression\u001b[39;00m():\n\u001b[0;32m     10\u001b[0m     \u001b[38;5;28;01mdef\u001b[39;00m \u001b[38;5;21m__init__\u001b[39m(\u001b[38;5;28mself\u001b[39m, train_inputs, train_outputs, degree):\n",
      "\u001b[1;31mModuleNotFoundError\u001b[0m: No module named 'cupy'"
     ]
    }
   ],
   "source": [
    "import logging\n",
    "import numpy as np\n",
    "import pandas as pd\n",
    "import matplotlib.pyplot as plt\n",
    "from matplotlib.animation import FuncAnimation\n",
    "import sys\n",
    "import cupy\n",
    "\n",
    "class PolyRegression():\n",
    "    def __init__(self, train_inputs, train_outputs, degree):\n",
    "        self.train_inputs = train_inputs\n",
    "        self.train_outputs = train_outputs\n",
    "        self.degree = degree\n",
    "        # self.weights = np.zeros((self.degree + 1, 1))\n",
    "        self.weights = np.zeros((train_inputs.shape[1] * self.degree + 1)) \n",
    "        self.bias = 0\n",
    "        self.loss = []\n",
    "\n",
    "    # def cost_func(self, prediction, train_output):\n",
    "    #     return np.mean((prediction - train_output) ** 2)\n",
    "\n",
    "    def cost_func(self, prediction, train_output, lambda_reg=0.1): \n",
    "        return np.mean((prediction - train_output) ** 2) + (lambda_reg * np.sum(np.abs(self.weights))) # L1 reg\n",
    "\n",
    "    def transform_inputs(self, inputs):\n",
    "        transformed_inputs = inputs\n",
    "        for i in range(2, self.degree + 1):\n",
    "            transformed_inputs = np.concatenate((transformed_inputs, inputs ** i), axis=1)\n",
    "        transformed_inputs = np.concatenate((np.ones((transformed_inputs.shape[0], 1)), transformed_inputs), axis=1)\n",
    "        return transformed_inputs\n",
    "\n",
    "    # used transform and normalize function from here https://www.geeksforgeeks.org/polynomial-regression-from-scratch-using-python/?ref=lbp\n",
    "    # def transform_inputs(self, X):\n",
    "    #     # initialize X_transform\n",
    "    #     X_transform = np.ones((X.shape[0], 1))\n",
    "\n",
    "    #     for j in range(1, self.degree + 1):\n",
    "    #         x_pow = np.power(X, j)\n",
    "    #         # append x_pow to X_transform\n",
    "    #         X_transform = np.append(X_transform, x_pow.reshape(-1, 1), axis=1)\n",
    "\n",
    "    #     return X_transform\n",
    "    \n",
    "    def normalize_inputs(self, inputs):\n",
    "        # Normalize the inputs\n",
    "        mean = np.mean(inputs, axis=0)\n",
    "        std = np.std(inputs, axis=0)\n",
    "        # Avoid division by zero by setting std to 1 where std is 0\n",
    "        std[std == 0] = 1\n",
    "        return (inputs - mean) / std\n",
    "    # def normalize_inputs( self, X ) :\n",
    "         \n",
    "    #     X[:, 1:] = ( X[:, 1:] - np.mean( X[:, 1:], axis = 0 ) ) / np.std( X[:, 1:], axis = 0 )\n",
    "         \n",
    "    #     return X\n",
    "\n",
    "    def forward_propagation(self, inputs):\n",
    "        return np.dot(inputs, self.weights) + self.bias\n",
    "\n",
    "    def update_weights(self, prediction, train_output, normalized_inputs, learning_rate):\n",
    "        prediction = prediction.reshape(-1, 1)\n",
    "        train_output = train_output.reshape(-1, 1)\n",
    "\n",
    "        # transformed_inputs = self.transform_inputs(self.train_inputs)\n",
    "        # normalized_inputs = self.normalize_inputs(transformed_inputs)\n",
    "\n",
    "        gradient_weights = np.dot(normalized_inputs.T, (prediction - train_output)) / normalized_inputs.shape[0]\n",
    "        gradient_bias = np.mean(prediction - train_output)\n",
    "\n",
    "        self.weights -= learning_rate * gradient_weights\n",
    "        self.bias -= learning_rate * gradient_bias\n",
    "    \n",
    "    def train(self, learning_rate, iters):\n",
    "        print(f\"Initial shapes - train_inputs: {self.train_inputs.shape}, train_outputs: {self.train_outputs.shape}\")\n",
    "\n",
    "        transformed_inputs = self.transform_inputs(self.train_inputs)\n",
    "        normalized_inputs = self.normalize_inputs(transformed_inputs)\n",
    "\n",
    "        for i in range(iters):\n",
    "            prediction = self.forward_propagation(normalized_inputs)\n",
    "            cost = self.cost_func(prediction, self.train_outputs)\n",
    "            self.update_weights(prediction, self.train_outputs, normalized_inputs, learning_rate)\n",
    "            self.loss.append(cost)\n",
    "            if i % 1000 == 0:\n",
    "                print(f\"Iteration {i}, cost={cost}\")\n",
    "            \n",
    "\n",
    "        return self.weights, self.bias, self.loss\n",
    "    # def train(self, learning_rate, iters):\n",
    "    #     print(f\"Initial shapes - train_inputs: {self.train_inputs.shape}, train_outputs: {self.train_outputs.shape}\")\n",
    "\n",
    "    #     fig, ax = plt.subplots()\n",
    "\n",
    "    #     # Choose a specific column (feature) from train_inputs for plotting\n",
    "    #     feature_index = 0  # Change this to the desired feature index\n",
    "    #     ax.scatter(self.train_inputs[:, feature_index], self.train_outputs, label='Training data') \n",
    "\n",
    "    #     transformed_inputs = self.transform_inputs(self.train_inputs)\n",
    "    #     normalized_inputs = self.normalize_inputs(transformed_inputs)\n",
    "\n",
    "    #     # For plotting the fitted line, you might need to adjust this as well\n",
    "    #     line, = ax.plot(self.train_inputs[:, feature_index], self.forward_propagation(normalized_inputs), color='red', label='Fit')\n",
    "    #     logging.basicConfig(level=logging.INFO)\n",
    "    #     def update(i):\n",
    "    #         prediction = self.forward_propagation(normalized_inputs)\n",
    "    #         cost = self.cost_func(prediction, self.train_outputs)\n",
    "    #         self.update_weights(prediction, self.train_outputs, normalized_inputs, learning_rate)\n",
    "    #         self.loss.append(cost)\n",
    "    #         line.set_ydata(self.forward_propagation(normalized_inputs))\n",
    "    #         # print(\"epoch, w, b, c: \", i, self.weights, self.bias, cost)\n",
    "            \n",
    "    #         logging.info(f\"Iteration {i}, cost={cost}\")\n",
    "    #         # print(f\"Iteration {i}, cost={cost}\")\n",
    "            \n",
    "    #         return line,\n",
    "\n",
    "    #     ani = FuncAnimation(fig, update, frames=iters, interval=200, blit=True)\n",
    "    #     ani.save('linear_regression_20.gif', writer='ffmpeg')\n",
    "\n",
    "    #     plt.xlabel('Input')\n",
    "    #     plt.ylabel('Output')\n",
    "    #     plt.title('Polynomial Regression')\n",
    "    #     plt.legend()\n",
    "    #     plt.show()\n",
    "\n",
    "    #     return self.weights, self.bias, self.loss\n",
    "\n",
    "    def predict(self, test_input):\n",
    "        transformed_inputs = self.transform_inputs(test_input)  # Don't reshape here\n",
    "        normalized_inputs = self.normalize_inputs(transformed_inputs)\n",
    "        return np.dot(normalized_inputs, self.weights) + self.bias \n",
    "\n",
    "    def accuracy(self, test_input, test_output):\n",
    "        prediction = self.predict(test_input)\n",
    "        return 1 - self.cost_func(prediction, test_output) / np.mean(test_output ** 2)\n"
   ]
  },
  {
   "cell_type": "code",
   "execution_count": 170,
   "metadata": {},
   "outputs": [
    {
     "ename": "ModuleNotFoundError",
     "evalue": "No module named 'cupy'",
     "output_type": "error",
     "traceback": [
      "\u001b[1;31m---------------------------------------------------------------------------\u001b[0m",
      "\u001b[1;31mModuleNotFoundError\u001b[0m                       Traceback (most recent call last)",
      "Cell \u001b[1;32mIn[170], line 4\u001b[0m\n\u001b[0;32m      2\u001b[0m \u001b[38;5;28;01mimport\u001b[39;00m \u001b[38;5;21;01mnumpy\u001b[39;00m \u001b[38;5;28;01mas\u001b[39;00m \u001b[38;5;21;01mnp\u001b[39;00m\n\u001b[0;32m      3\u001b[0m \u001b[38;5;28;01mimport\u001b[39;00m \u001b[38;5;21;01mpandas\u001b[39;00m \u001b[38;5;28;01mas\u001b[39;00m \u001b[38;5;21;01mpd\u001b[39;00m\n\u001b[1;32m----> 4\u001b[0m \u001b[38;5;28;01mimport\u001b[39;00m \u001b[38;5;21;01mcupy\u001b[39;00m \u001b[38;5;28;01mas\u001b[39;00m \u001b[38;5;21;01mcp\u001b[39;00m  \u001b[38;5;66;03m# Use CuPy instead of NumPy \u001b[39;00m\n\u001b[0;32m      6\u001b[0m \u001b[38;5;28;01mclass\u001b[39;00m \u001b[38;5;21;01mPolyRegression\u001b[39;00m():\n\u001b[0;32m      7\u001b[0m     \u001b[38;5;28;01mdef\u001b[39;00m \u001b[38;5;21m__init__\u001b[39m(\u001b[38;5;28mself\u001b[39m, train_inputs, train_outputs, degree):\n",
      "\u001b[1;31mModuleNotFoundError\u001b[0m: No module named 'cupy'"
     ]
    }
   ],
   "source": [
    "import logging\n",
    "import numpy as np\n",
    "import pandas as pd\n",
    "import cupy as cp  # Use CuPy instead of NumPy \n",
    "\n",
    "class PolyRegression():\n",
    "    def __init__(self, train_inputs, train_outputs, degree):\n",
    "        self.train_inputs = cp.array(train_inputs)  # Move data to GPU\n",
    "        self.train_outputs = cp.array(train_outputs) # Move data to GPU\n",
    "        self.degree = degree\n",
    "        self.weights = cp.zeros((train_inputs.shape[1] * self.degree + 1, 1))\n",
    "        self.bias = 0\n",
    "        self.loss = []\n",
    "\n",
    "    def cost_func(self, prediction, train_output, lambda_reg=0.1): \n",
    "        return cp.mean((prediction - train_output) ** 2) + \\\n",
    "               (lambda_reg * cp.sum(cp.abs(self.weights)))\n",
    "\n",
    "    def transform_inputs(self, inputs):\n",
    "        transformed_inputs = inputs\n",
    "        for i in range(2, self.degree + 1):\n",
    "            transformed_inputs = cp.concatenate((transformed_inputs, inputs ** i), axis=1)\n",
    "        transformed_inputs = cp.concatenate((cp.ones((transformed_inputs.shape[0], 1)), transformed_inputs), axis=1)\n",
    "        return transformed_inputs\n",
    "\n",
    "    def normalize_inputs(self, inputs):\n",
    "        mean = cp.mean(inputs, axis=0)\n",
    "        std = cp.std(inputs, axis=0)\n",
    "        std[std == 0] = 1\n",
    "        return (inputs - mean) / std\n",
    "\n",
    "    def forward_propagation(self, inputs):\n",
    "        return cp.dot(inputs, self.weights) + self.bias\n",
    "\n",
    "    def update_weights(self, prediction, train_output, normalized_inputs, learning_rate):\n",
    "        prediction = prediction.reshape(-1, 1)\n",
    "        train_output = train_output.reshape(-1, 1)\n",
    "\n",
    "        gradient_weights = cp.dot(normalized_inputs.T, (prediction - train_output)) / normalized_inputs.shape[0]\n",
    "        gradient_bias = cp.mean(prediction - train_output)\n",
    "\n",
    "        self.weights -= learning_rate * gradient_weights\n",
    "        self.bias -= learning_rate * gradient_bias\n",
    "\n",
    "    def train(self, learning_rate, iters):\n",
    "        print(f\"Initial shapes - train_inputs: {self.train_inputs.shape}, train_outputs: {self.train_outputs.shape}\")\n",
    "\n",
    "        transformed_inputs = self.transform_inputs(self.train_inputs)\n",
    "        normalized_inputs = self.normalize_inputs(transformed_inputs)\n",
    "\n",
    "        for i in range(iters):\n",
    "            prediction = self.forward_propagation(normalized_inputs)\n",
    "            cost = self.cost_func(prediction, self.train_outputs)\n",
    "            self.update_weights(prediction, self.train_outputs, normalized_inputs, learning_rate)\n",
    "            self.loss.append(cost.get())  # Retrieve cost from GPU to CPU for logging\n",
    "            if i % 1000 == 0:\n",
    "                print(f\"Iteration {i}, cost={cost}\")\n",
    "\n",
    "        return self.weights, self.bias, self.loss \n",
    "\n",
    "    def predict(self, test_input):\n",
    "        test_input = cp.array(test_input)  # Move data to GPU\n",
    "        transformed_inputs = self.transform_inputs(test_input)\n",
    "        normalized_inputs = self.normalize_inputs(transformed_inputs)\n",
    "        return cp.dot(normalized_inputs, self.weights) + self.bias\n",
    "\n",
    "    def accuracy(self, test_input, test_output):\n",
    "        prediction = self.predict(test_input)\n",
    "        return 1 - self.cost_func(prediction, cp.array(test_output)).get() / cp.mean(cp.array(test_output) ** 2).get()"
   ]
  },
  {
   "cell_type": "code",
   "execution_count": 172,
   "metadata": {},
   "outputs": [
    {
     "name": "stdout",
     "output_type": "stream",
     "text": [
      "^C\n"
     ]
    }
   ],
   "source": [
    "!pip install cupy"
   ]
  },
  {
   "cell_type": "code",
   "execution_count": 174,
   "metadata": {},
   "outputs": [
    {
     "name": "stdout",
     "output_type": "stream",
     "text": [
      "Initial shapes - train_inputs: (6509, 8), train_outputs: (6509, 1)\n",
      "Iteration 0, cost=3594225581578.6094\n",
      "Iteration 1000, cost=3583368653118.994\n",
      "Iteration 2000, cost=3576160917466.3374\n",
      "Iteration 3000, cost=3570579049432.393\n",
      "Iteration 4000, cost=3566061494601.7935\n",
      "Iteration 5000, cost=3562349946799.267\n",
      "Iteration 6000, cost=3559279401259.0176\n",
      "Iteration 7000, cost=3556727970087.1396\n",
      "Iteration 8000, cost=3554600252191.0845\n",
      "Iteration 9000, cost=3552819793755.2725\n",
      "Iteration 10000, cost=3551324694275.5693\n",
      "Iteration 11000, cost=3550064589997.991\n",
      "Iteration 12000, cost=3548998391576.2656\n",
      "Iteration 13000, cost=3548092514137.6265\n",
      "Iteration 14000, cost=3547319465460.449\n",
      "Iteration 15000, cost=3546656709677.786\n",
      "Iteration 16000, cost=3546085748720.58\n",
      "Iteration 17000, cost=3545591377904.9316\n",
      "Iteration 18000, cost=3545161081787.9004\n",
      "Iteration 19000, cost=3544784543226.3784\n",
      "Iteration 20000, cost=3544453243654.63\n",
      "Iteration 21000, cost=3544160138062.165\n",
      "Iteration 22000, cost=3543899389759.03\n",
      "Iteration 23000, cost=3543666154063.4834\n",
      "Iteration 24000, cost=3543456401730.9233\n",
      "Iteration 25000, cost=3543266774303.9966\n",
      "Iteration 26000, cost=3543094466257.66\n",
      "Iteration 27000, cost=3542937128190.298\n",
      "Iteration 28000, cost=3542792787522.515\n",
      "Iteration 29000, cost=3542659783491.982\n",
      "Iteration 30000, cost=3542536713721.1636\n",
      "Iteration 31000, cost=3542422390316.671\n",
      "Iteration 32000, cost=3542315803723.5986\n",
      "Iteration 33000, cost=3542216092932.356\n",
      "Iteration 34000, cost=3542122520971.114\n",
      "Iteration 35000, cost=3542034454614.6895\n",
      "Iteration 36000, cost=3541951347623.265\n",
      "Iteration 37000, cost=3541872726866.324\n",
      "Iteration 38000, cost=3541798180819.0996\n",
      "Iteration 39000, cost=3541727350011.6904\n",
      "Iteration 40000, cost=3541659919086.9097\n",
      "Iteration 41000, cost=3541595610184.762\n",
      "Iteration 42000, cost=3541534177422.0903\n"
     ]
    },
    {
     "ename": "KeyboardInterrupt",
     "evalue": "",
     "output_type": "error",
     "traceback": [
      "\u001b[1;31m---------------------------------------------------------------------------\u001b[0m",
      "\u001b[1;31mKeyboardInterrupt\u001b[0m                         Traceback (most recent call last)",
      "Cell \u001b[1;32mIn[174], line 5\u001b[0m\n\u001b[0;32m      2\u001b[0m model \u001b[38;5;241m=\u001b[39m PolyRegression(X_train, y_train, degree \u001b[38;5;241m=\u001b[39m \u001b[38;5;241m10\u001b[39m)\n\u001b[0;32m      4\u001b[0m \u001b[38;5;66;03m# train the model\u001b[39;00m\n\u001b[1;32m----> 5\u001b[0m \u001b[43mmodel\u001b[49m\u001b[38;5;241;43m.\u001b[39;49m\u001b[43mtrain\u001b[49m\u001b[43m(\u001b[49m\u001b[43mlearning_rate\u001b[49m\u001b[38;5;241;43m=\u001b[39;49m\u001b[38;5;241;43m0.0001\u001b[39;49m\u001b[43m,\u001b[49m\u001b[43m \u001b[49m\u001b[43miters\u001b[49m\u001b[38;5;241;43m=\u001b[39;49m\u001b[38;5;241;43m1000000\u001b[39;49m\u001b[43m)\u001b[49m\n\u001b[0;32m      7\u001b[0m \u001b[38;5;66;03m# accuracy of the model\u001b[39;00m\n\u001b[0;32m      9\u001b[0m \u001b[38;5;28mprint\u001b[39m(\u001b[38;5;124m\"\u001b[39m\u001b[38;5;124mTrain Accuracy: \u001b[39m\u001b[38;5;124m\"\u001b[39m, model\u001b[38;5;241m.\u001b[39maccuracy(X_test, y_test))\n",
      "Cell \u001b[1;32mIn[166], line 81\u001b[0m, in \u001b[0;36mPolyRegression.train\u001b[1;34m(self, learning_rate, iters)\u001b[0m\n\u001b[0;32m     79\u001b[0m prediction \u001b[38;5;241m=\u001b[39m \u001b[38;5;28mself\u001b[39m\u001b[38;5;241m.\u001b[39mforward_propagation(normalized_inputs)\n\u001b[0;32m     80\u001b[0m cost \u001b[38;5;241m=\u001b[39m \u001b[38;5;28mself\u001b[39m\u001b[38;5;241m.\u001b[39mcost_func(prediction, \u001b[38;5;28mself\u001b[39m\u001b[38;5;241m.\u001b[39mtrain_outputs)\n\u001b[1;32m---> 81\u001b[0m \u001b[38;5;28;43mself\u001b[39;49m\u001b[38;5;241;43m.\u001b[39;49m\u001b[43mupdate_weights\u001b[49m\u001b[43m(\u001b[49m\u001b[43mprediction\u001b[49m\u001b[43m,\u001b[49m\u001b[43m \u001b[49m\u001b[38;5;28;43mself\u001b[39;49m\u001b[38;5;241;43m.\u001b[39;49m\u001b[43mtrain_outputs\u001b[49m\u001b[43m,\u001b[49m\u001b[43m \u001b[49m\u001b[43mnormalized_inputs\u001b[49m\u001b[43m,\u001b[49m\u001b[43m \u001b[49m\u001b[43mlearning_rate\u001b[49m\u001b[43m)\u001b[49m\n\u001b[0;32m     82\u001b[0m \u001b[38;5;28mself\u001b[39m\u001b[38;5;241m.\u001b[39mloss\u001b[38;5;241m.\u001b[39mappend(cost)\n\u001b[0;32m     83\u001b[0m \u001b[38;5;28;01mif\u001b[39;00m i \u001b[38;5;241m%\u001b[39m \u001b[38;5;241m1000\u001b[39m \u001b[38;5;241m==\u001b[39m \u001b[38;5;241m0\u001b[39m:\n",
      "Cell \u001b[1;32mIn[166], line 66\u001b[0m, in \u001b[0;36mPolyRegression.update_weights\u001b[1;34m(self, prediction, train_output, normalized_inputs, learning_rate)\u001b[0m\n\u001b[0;32m     61\u001b[0m train_output \u001b[38;5;241m=\u001b[39m train_output\u001b[38;5;241m.\u001b[39mreshape(\u001b[38;5;241m-\u001b[39m\u001b[38;5;241m1\u001b[39m, \u001b[38;5;241m1\u001b[39m)\n\u001b[0;32m     63\u001b[0m \u001b[38;5;66;03m# transformed_inputs = self.transform_inputs(self.train_inputs)\u001b[39;00m\n\u001b[0;32m     64\u001b[0m \u001b[38;5;66;03m# normalized_inputs = self.normalize_inputs(transformed_inputs)\u001b[39;00m\n\u001b[1;32m---> 66\u001b[0m gradient_weights \u001b[38;5;241m=\u001b[39m \u001b[43mnp\u001b[49m\u001b[38;5;241;43m.\u001b[39;49m\u001b[43mdot\u001b[49m\u001b[43m(\u001b[49m\u001b[43mnormalized_inputs\u001b[49m\u001b[38;5;241;43m.\u001b[39;49m\u001b[43mT\u001b[49m\u001b[43m,\u001b[49m\u001b[43m \u001b[49m\u001b[43m(\u001b[49m\u001b[43mprediction\u001b[49m\u001b[43m \u001b[49m\u001b[38;5;241;43m-\u001b[39;49m\u001b[43m \u001b[49m\u001b[43mtrain_output\u001b[49m\u001b[43m)\u001b[49m\u001b[43m)\u001b[49m \u001b[38;5;241m/\u001b[39m normalized_inputs\u001b[38;5;241m.\u001b[39mshape[\u001b[38;5;241m0\u001b[39m]\n\u001b[0;32m     67\u001b[0m gradient_bias \u001b[38;5;241m=\u001b[39m np\u001b[38;5;241m.\u001b[39mmean(prediction \u001b[38;5;241m-\u001b[39m train_output)\n\u001b[0;32m     69\u001b[0m \u001b[38;5;28mself\u001b[39m\u001b[38;5;241m.\u001b[39mweights \u001b[38;5;241m-\u001b[39m\u001b[38;5;241m=\u001b[39m learning_rate \u001b[38;5;241m*\u001b[39m gradient_weights\n",
      "File \u001b[1;32m<__array_function__ internals>:200\u001b[0m, in \u001b[0;36mdot\u001b[1;34m(*args, **kwargs)\u001b[0m\n",
      "\u001b[1;31mKeyboardInterrupt\u001b[0m: "
     ]
    },
    {
     "ename": "",
     "evalue": "",
     "output_type": "error",
     "traceback": [
      "\u001b[1;31mThe Kernel crashed while executing code in the current cell or a previous cell. \n",
      "\u001b[1;31mPlease review the code in the cell(s) to identify a possible cause of the failure. \n",
      "\u001b[1;31mClick <a href='https://aka.ms/vscodeJupyterKernelCrash'>here</a> for more info. \n",
      "\u001b[1;31mView Jupyter <a href='command:jupyter.viewOutput'>log</a> for further details."
     ]
    }
   ],
   "source": [
    "\n",
    "\n",
    "# Create an instance of the PolyRegression class\n",
    "model = PolyRegression(X_train, y_train, degree = 10)\n",
    "\n",
    "# train the model\n",
    "model.train(learning_rate=0.0001, iters=1000000)\n",
    "\n",
    "# accuracy of the model\n",
    "\n",
    "print(\"Train Accuracy: \", model.accuracy(X_test, y_test))\n",
    "\n"
   ]
  },
  {
   "cell_type": "code",
   "execution_count": 151,
   "metadata": {},
   "outputs": [
    {
     "name": "stdout",
     "output_type": "stream",
     "text": [
      "Train Accuracy:  -1.3753825407781743\n"
     ]
    }
   ],
   "source": [
    "print(\"Train Accuracy: \", model.accuracy(X_test, y_test))\n"
   ]
  },
  {
   "cell_type": "code",
   "execution_count": 164,
   "metadata": {},
   "outputs": [
    {
     "name": "stdout",
     "output_type": "stream",
     "text": [
      "[[  7   5 166   3   1 150  20  -2]] [[70]]\n",
      "[[137480.60331848]]\n"
     ]
    }
   ],
   "source": [
    "print(X_test[0:1], y_test[0:1])\n",
    "print(model.predict(X_test[0:1]))"
   ]
  },
  {
   "cell_type": "code",
   "execution_count": 149,
   "metadata": {},
   "outputs": [
    {
     "data": {
      "text/plain": [
       "array([[776027.06031396],\n",
       "       [-99862.54473464],\n",
       "       [ 75568.08566786],\n",
       "       [ 15468.15270958],\n",
       "       [-79797.73736435]])"
      ]
     },
     "execution_count": 149,
     "metadata": {},
     "output_type": "execute_result"
    }
   ],
   "source": [
    "model.predict(X_test[0:5])"
   ]
  },
  {
   "cell_type": "code",
   "execution_count": 83,
   "metadata": {},
   "outputs": [
    {
     "name": "stdout",
     "output_type": "stream",
     "text": [
      "Iteration 0, cost=3509929718026.1484\n",
      "Iteration 0, cost=3501412187610.6387\n",
      "Iteration 0, cost=3496259265450.61\n",
      "Iteration 0, cost=3493054189689.0347\n",
      "Iteration 100, cost=3486818883575.0757\n",
      "Iteration 200, cost=3486645548374.289\n",
      "Iteration 300, cost=3486566961194.975\n",
      "Iteration 400, cost=3486514070672.2715\n",
      "Iteration 500, cost=3486468654563.577\n",
      "Iteration 600, cost=3486425814672.907\n",
      "Iteration 700, cost=3486384168343.8916\n",
      "Iteration 800, cost=3486343277365.6562\n",
      "Iteration 900, cost=3486302969629.6895\n",
      "Iteration 1000, cost=3486263156922.837\n",
      "Iteration 1100, cost=3486223783611.563\n",
      "Iteration 1200, cost=3486184810479.6094\n",
      "Iteration 1300, cost=3486146208462.583\n",
      "Iteration 1400, cost=3486107955497.29\n",
      "Iteration 1500, cost=3486070034577.0273\n",
      "Iteration 1600, cost=3486032432412.5674\n",
      "Iteration 1700, cost=3485995138466.6934\n",
      "Iteration 1800, cost=3485958144245.833\n",
      "Iteration 1900, cost=3485921442777.0396\n",
      "Iteration 2000, cost=3485885028220.92\n",
      "Iteration 2100, cost=3485848895584.939\n",
      "Iteration 2200, cost=3485813040510.9897\n",
      "Iteration 2300, cost=3485777459117.948\n",
      "Iteration 2400, cost=3485742147884.971\n",
      "Iteration 2500, cost=3485707103564.953\n",
      "Iteration 2600, cost=3485672323120.354\n",
      "Iteration 2700, cost=3485637803675.5747\n",
      "Iteration 2800, cost=3485603542481.605\n",
      "Iteration 2900, cost=3485569536889.763\n",
      "Iteration 3000, cost=3485535784332.167\n",
      "Iteration 3100, cost=3485502282307.196\n",
      "Iteration 3200, cost=3485469028368.648\n",
      "Iteration 3300, cost=3485436020117.6406\n",
      "Iteration 3400, cost=3485403255196.541\n"
     ]
    },
    {
     "ename": "KeyboardInterrupt",
     "evalue": "",
     "output_type": "error",
     "traceback": [
      "\u001b[1;31m---------------------------------------------------------------------------\u001b[0m",
      "\u001b[1;31mKeyboardInterrupt\u001b[0m                         Traceback (most recent call last)",
      "Cell \u001b[1;32mIn[83], line 30\u001b[0m\n\u001b[0;32m      5\u001b[0m \u001b[38;5;66;03m# train_size = 500\u001b[39;00m\n\u001b[0;32m      6\u001b[0m \u001b[38;5;66;03m# test_size = 199\u001b[39;00m\n\u001b[0;32m      7\u001b[0m \n\u001b[1;32m   (...)\u001b[0m\n\u001b[0;32m     25\u001b[0m \n\u001b[0;32m     26\u001b[0m \u001b[38;5;66;03m# print(f'Accuracy: {accuracy}')\u001b[39;00m\n\u001b[0;32m     28\u001b[0m model \u001b[38;5;241m=\u001b[39m LinearRegression(X_train, y_train)\n\u001b[1;32m---> 30\u001b[0m parameters, bias, loss \u001b[38;5;241m=\u001b[39m \u001b[43mmodel\u001b[49m\u001b[38;5;241;43m.\u001b[39;49m\u001b[43mtrain\u001b[49m\u001b[43m(\u001b[49m\u001b[43mlearning_rate\u001b[49m\u001b[38;5;241;43m=\u001b[39;49m\u001b[38;5;241;43m0.00001\u001b[39;49m\u001b[43m,\u001b[49m\u001b[43m \u001b[49m\u001b[43miters\u001b[49m\u001b[38;5;241;43m=\u001b[39;49m\u001b[38;5;241;43m100000\u001b[39;49m\u001b[43m)\u001b[49m\n\u001b[0;32m     32\u001b[0m accuracy \u001b[38;5;241m=\u001b[39m model\u001b[38;5;241m.\u001b[39maccuracy(X_test, y_test)\n\u001b[0;32m     34\u001b[0m \u001b[38;5;28mprint\u001b[39m(\u001b[38;5;124mf\u001b[39m\u001b[38;5;124m'\u001b[39m\u001b[38;5;124mAccuracy: \u001b[39m\u001b[38;5;132;01m{\u001b[39;00maccuracy\u001b[38;5;132;01m}\u001b[39;00m\u001b[38;5;124m'\u001b[39m)\n",
      "File \u001b[1;32md:\\playground\\egzersiz\\ml_algos\\regression\\polynomial_regression\\../multiple_linear_regression\\mlr.py:75\u001b[0m, in \u001b[0;36mLinearRegression.train\u001b[1;34m(self, learning_rate, iters)\u001b[0m\n\u001b[0;32m     72\u001b[0m     \u001b[38;5;28;01mreturn\u001b[39;00m [line]\n\u001b[0;32m     74\u001b[0m ani \u001b[38;5;241m=\u001b[39m FuncAnimation(fig, update, frames\u001b[38;5;241m=\u001b[39miters, interval\u001b[38;5;241m=\u001b[39m\u001b[38;5;241m200\u001b[39m, blit\u001b[38;5;241m=\u001b[39m\u001b[38;5;28;01mTrue\u001b[39;00m)\n\u001b[1;32m---> 75\u001b[0m \u001b[43mani\u001b[49m\u001b[38;5;241;43m.\u001b[39;49m\u001b[43msave\u001b[49m\u001b[43m(\u001b[49m\u001b[38;5;124;43m'\u001b[39;49m\u001b[38;5;124;43mlinear_regression_cost.gif\u001b[39;49m\u001b[38;5;124;43m'\u001b[39;49m\u001b[43m,\u001b[49m\u001b[43m \u001b[49m\u001b[43mwriter\u001b[49m\u001b[38;5;241;43m=\u001b[39;49m\u001b[38;5;124;43m'\u001b[39;49m\u001b[38;5;124;43mffmpeg\u001b[39;49m\u001b[38;5;124;43m'\u001b[39;49m\u001b[43m)\u001b[49m\n\u001b[0;32m     77\u001b[0m plt\u001b[38;5;241m.\u001b[39mxlabel(\u001b[38;5;124m'\u001b[39m\u001b[38;5;124mIteration\u001b[39m\u001b[38;5;124m'\u001b[39m)\n\u001b[0;32m     78\u001b[0m plt\u001b[38;5;241m.\u001b[39mylabel(\u001b[38;5;124m'\u001b[39m\u001b[38;5;124mCost\u001b[39m\u001b[38;5;124m'\u001b[39m)\n",
      "File \u001b[1;32m~\\AppData\\Local\\Packages\\PythonSoftwareFoundation.Python.3.11_qbz5n2kfra8p0\\LocalCache\\local-packages\\Python311\\site-packages\\matplotlib\\animation.py:1109\u001b[0m, in \u001b[0;36mAnimation.save\u001b[1;34m(self, filename, writer, fps, dpi, codec, bitrate, extra_args, metadata, extra_anim, savefig_kwargs, progress_callback)\u001b[0m\n\u001b[0;32m   1107\u001b[0m         progress_callback(frame_number, total_frames)\n\u001b[0;32m   1108\u001b[0m         frame_number \u001b[38;5;241m+\u001b[39m\u001b[38;5;241m=\u001b[39m \u001b[38;5;241m1\u001b[39m\n\u001b[1;32m-> 1109\u001b[0m \u001b[43mwriter\u001b[49m\u001b[38;5;241;43m.\u001b[39;49m\u001b[43mgrab_frame\u001b[49m\u001b[43m(\u001b[49m\u001b[38;5;241;43m*\u001b[39;49m\u001b[38;5;241;43m*\u001b[39;49m\u001b[43msavefig_kwargs\u001b[49m\u001b[43m)\u001b[49m\n",
      "File \u001b[1;32m~\\AppData\\Local\\Packages\\PythonSoftwareFoundation.Python.3.11_qbz5n2kfra8p0\\LocalCache\\local-packages\\Python311\\site-packages\\matplotlib\\animation.py:371\u001b[0m, in \u001b[0;36mMovieWriter.grab_frame\u001b[1;34m(self, **savefig_kwargs)\u001b[0m\n\u001b[0;32m    369\u001b[0m \u001b[38;5;28mself\u001b[39m\u001b[38;5;241m.\u001b[39mfig\u001b[38;5;241m.\u001b[39mset_size_inches(\u001b[38;5;28mself\u001b[39m\u001b[38;5;241m.\u001b[39m_w, \u001b[38;5;28mself\u001b[39m\u001b[38;5;241m.\u001b[39m_h)\n\u001b[0;32m    370\u001b[0m \u001b[38;5;66;03m# Save the figure data to the sink, using the frame format and dpi.\u001b[39;00m\n\u001b[1;32m--> 371\u001b[0m \u001b[38;5;28;43mself\u001b[39;49m\u001b[38;5;241;43m.\u001b[39;49m\u001b[43mfig\u001b[49m\u001b[38;5;241;43m.\u001b[39;49m\u001b[43msavefig\u001b[49m\u001b[43m(\u001b[49m\u001b[38;5;28;43mself\u001b[39;49m\u001b[38;5;241;43m.\u001b[39;49m\u001b[43m_proc\u001b[49m\u001b[38;5;241;43m.\u001b[39;49m\u001b[43mstdin\u001b[49m\u001b[43m,\u001b[49m\u001b[43m \u001b[49m\u001b[38;5;28;43mformat\u001b[39;49m\u001b[38;5;241;43m=\u001b[39;49m\u001b[38;5;28;43mself\u001b[39;49m\u001b[38;5;241;43m.\u001b[39;49m\u001b[43mframe_format\u001b[49m\u001b[43m,\u001b[49m\n\u001b[0;32m    372\u001b[0m \u001b[43m                 \u001b[49m\u001b[43mdpi\u001b[49m\u001b[38;5;241;43m=\u001b[39;49m\u001b[38;5;28;43mself\u001b[39;49m\u001b[38;5;241;43m.\u001b[39;49m\u001b[43mdpi\u001b[49m\u001b[43m,\u001b[49m\u001b[43m \u001b[49m\u001b[38;5;241;43m*\u001b[39;49m\u001b[38;5;241;43m*\u001b[39;49m\u001b[43msavefig_kwargs\u001b[49m\u001b[43m)\u001b[49m\n",
      "File \u001b[1;32m~\\AppData\\Local\\Packages\\PythonSoftwareFoundation.Python.3.11_qbz5n2kfra8p0\\LocalCache\\local-packages\\Python311\\site-packages\\matplotlib\\figure.py:3390\u001b[0m, in \u001b[0;36mFigure.savefig\u001b[1;34m(self, fname, transparent, **kwargs)\u001b[0m\n\u001b[0;32m   3388\u001b[0m     \u001b[38;5;28;01mfor\u001b[39;00m ax \u001b[38;5;129;01min\u001b[39;00m \u001b[38;5;28mself\u001b[39m\u001b[38;5;241m.\u001b[39maxes:\n\u001b[0;32m   3389\u001b[0m         _recursively_make_axes_transparent(stack, ax)\n\u001b[1;32m-> 3390\u001b[0m \u001b[38;5;28;43mself\u001b[39;49m\u001b[38;5;241;43m.\u001b[39;49m\u001b[43mcanvas\u001b[49m\u001b[38;5;241;43m.\u001b[39;49m\u001b[43mprint_figure\u001b[49m\u001b[43m(\u001b[49m\u001b[43mfname\u001b[49m\u001b[43m,\u001b[49m\u001b[43m \u001b[49m\u001b[38;5;241;43m*\u001b[39;49m\u001b[38;5;241;43m*\u001b[39;49m\u001b[43mkwargs\u001b[49m\u001b[43m)\u001b[49m\n",
      "File \u001b[1;32m~\\AppData\\Local\\Packages\\PythonSoftwareFoundation.Python.3.11_qbz5n2kfra8p0\\LocalCache\\local-packages\\Python311\\site-packages\\matplotlib\\backend_bases.py:2187\u001b[0m, in \u001b[0;36mFigureCanvasBase.print_figure\u001b[1;34m(self, filename, dpi, facecolor, edgecolor, orientation, format, bbox_inches, pad_inches, bbox_extra_artists, backend, **kwargs)\u001b[0m\n\u001b[0;32m   2183\u001b[0m \u001b[38;5;28;01mtry\u001b[39;00m:\n\u001b[0;32m   2184\u001b[0m     \u001b[38;5;66;03m# _get_renderer may change the figure dpi (as vector formats\u001b[39;00m\n\u001b[0;32m   2185\u001b[0m     \u001b[38;5;66;03m# force the figure dpi to 72), so we need to set it again here.\u001b[39;00m\n\u001b[0;32m   2186\u001b[0m     \u001b[38;5;28;01mwith\u001b[39;00m cbook\u001b[38;5;241m.\u001b[39m_setattr_cm(\u001b[38;5;28mself\u001b[39m\u001b[38;5;241m.\u001b[39mfigure, dpi\u001b[38;5;241m=\u001b[39mdpi):\n\u001b[1;32m-> 2187\u001b[0m         result \u001b[38;5;241m=\u001b[39m \u001b[43mprint_method\u001b[49m\u001b[43m(\u001b[49m\n\u001b[0;32m   2188\u001b[0m \u001b[43m            \u001b[49m\u001b[43mfilename\u001b[49m\u001b[43m,\u001b[49m\n\u001b[0;32m   2189\u001b[0m \u001b[43m            \u001b[49m\u001b[43mfacecolor\u001b[49m\u001b[38;5;241;43m=\u001b[39;49m\u001b[43mfacecolor\u001b[49m\u001b[43m,\u001b[49m\n\u001b[0;32m   2190\u001b[0m \u001b[43m            \u001b[49m\u001b[43medgecolor\u001b[49m\u001b[38;5;241;43m=\u001b[39;49m\u001b[43medgecolor\u001b[49m\u001b[43m,\u001b[49m\n\u001b[0;32m   2191\u001b[0m \u001b[43m            \u001b[49m\u001b[43morientation\u001b[49m\u001b[38;5;241;43m=\u001b[39;49m\u001b[43morientation\u001b[49m\u001b[43m,\u001b[49m\n\u001b[0;32m   2192\u001b[0m \u001b[43m            \u001b[49m\u001b[43mbbox_inches_restore\u001b[49m\u001b[38;5;241;43m=\u001b[39;49m\u001b[43m_bbox_inches_restore\u001b[49m\u001b[43m,\u001b[49m\n\u001b[0;32m   2193\u001b[0m \u001b[43m            \u001b[49m\u001b[38;5;241;43m*\u001b[39;49m\u001b[38;5;241;43m*\u001b[39;49m\u001b[43mkwargs\u001b[49m\u001b[43m)\u001b[49m\n\u001b[0;32m   2194\u001b[0m \u001b[38;5;28;01mfinally\u001b[39;00m:\n\u001b[0;32m   2195\u001b[0m     \u001b[38;5;28;01mif\u001b[39;00m bbox_inches \u001b[38;5;129;01mand\u001b[39;00m restore_bbox:\n",
      "File \u001b[1;32m~\\AppData\\Local\\Packages\\PythonSoftwareFoundation.Python.3.11_qbz5n2kfra8p0\\LocalCache\\local-packages\\Python311\\site-packages\\matplotlib\\backend_bases.py:2043\u001b[0m, in \u001b[0;36mFigureCanvasBase._switch_canvas_and_return_print_method.<locals>.<lambda>\u001b[1;34m(*args, **kwargs)\u001b[0m\n\u001b[0;32m   2039\u001b[0m     optional_kws \u001b[38;5;241m=\u001b[39m {  \u001b[38;5;66;03m# Passed by print_figure for other renderers.\u001b[39;00m\n\u001b[0;32m   2040\u001b[0m         \u001b[38;5;124m\"\u001b[39m\u001b[38;5;124mdpi\u001b[39m\u001b[38;5;124m\"\u001b[39m, \u001b[38;5;124m\"\u001b[39m\u001b[38;5;124mfacecolor\u001b[39m\u001b[38;5;124m\"\u001b[39m, \u001b[38;5;124m\"\u001b[39m\u001b[38;5;124medgecolor\u001b[39m\u001b[38;5;124m\"\u001b[39m, \u001b[38;5;124m\"\u001b[39m\u001b[38;5;124morientation\u001b[39m\u001b[38;5;124m\"\u001b[39m,\n\u001b[0;32m   2041\u001b[0m         \u001b[38;5;124m\"\u001b[39m\u001b[38;5;124mbbox_inches_restore\u001b[39m\u001b[38;5;124m\"\u001b[39m}\n\u001b[0;32m   2042\u001b[0m     skip \u001b[38;5;241m=\u001b[39m optional_kws \u001b[38;5;241m-\u001b[39m {\u001b[38;5;241m*\u001b[39minspect\u001b[38;5;241m.\u001b[39msignature(meth)\u001b[38;5;241m.\u001b[39mparameters}\n\u001b[1;32m-> 2043\u001b[0m     print_method \u001b[38;5;241m=\u001b[39m functools\u001b[38;5;241m.\u001b[39mwraps(meth)(\u001b[38;5;28;01mlambda\u001b[39;00m \u001b[38;5;241m*\u001b[39margs, \u001b[38;5;241m*\u001b[39m\u001b[38;5;241m*\u001b[39mkwargs: \u001b[43mmeth\u001b[49m\u001b[43m(\u001b[49m\n\u001b[0;32m   2044\u001b[0m \u001b[43m        \u001b[49m\u001b[38;5;241;43m*\u001b[39;49m\u001b[43margs\u001b[49m\u001b[43m,\u001b[49m\u001b[43m \u001b[49m\u001b[38;5;241;43m*\u001b[39;49m\u001b[38;5;241;43m*\u001b[39;49m\u001b[43m{\u001b[49m\u001b[43mk\u001b[49m\u001b[43m:\u001b[49m\u001b[43m \u001b[49m\u001b[43mv\u001b[49m\u001b[43m \u001b[49m\u001b[38;5;28;43;01mfor\u001b[39;49;00m\u001b[43m \u001b[49m\u001b[43mk\u001b[49m\u001b[43m,\u001b[49m\u001b[43m \u001b[49m\u001b[43mv\u001b[49m\u001b[43m \u001b[49m\u001b[38;5;129;43;01min\u001b[39;49;00m\u001b[43m \u001b[49m\u001b[43mkwargs\u001b[49m\u001b[38;5;241;43m.\u001b[39;49m\u001b[43mitems\u001b[49m\u001b[43m(\u001b[49m\u001b[43m)\u001b[49m\u001b[43m \u001b[49m\u001b[38;5;28;43;01mif\u001b[39;49;00m\u001b[43m \u001b[49m\u001b[43mk\u001b[49m\u001b[43m \u001b[49m\u001b[38;5;129;43;01mnot\u001b[39;49;00m\u001b[43m \u001b[49m\u001b[38;5;129;43;01min\u001b[39;49;00m\u001b[43m \u001b[49m\u001b[43mskip\u001b[49m\u001b[43m}\u001b[49m\u001b[43m)\u001b[49m)\n\u001b[0;32m   2045\u001b[0m \u001b[38;5;28;01melse\u001b[39;00m:  \u001b[38;5;66;03m# Let third-parties do as they see fit.\u001b[39;00m\n\u001b[0;32m   2046\u001b[0m     print_method \u001b[38;5;241m=\u001b[39m meth\n",
      "File \u001b[1;32m~\\AppData\\Local\\Packages\\PythonSoftwareFoundation.Python.3.11_qbz5n2kfra8p0\\LocalCache\\local-packages\\Python311\\site-packages\\matplotlib\\backends\\backend_agg.py:433\u001b[0m, in \u001b[0;36mFigureCanvasAgg.print_raw\u001b[1;34m(self, filename_or_obj, metadata)\u001b[0m\n\u001b[0;32m    431\u001b[0m \u001b[38;5;28;01mif\u001b[39;00m metadata \u001b[38;5;129;01mis\u001b[39;00m \u001b[38;5;129;01mnot\u001b[39;00m \u001b[38;5;28;01mNone\u001b[39;00m:\n\u001b[0;32m    432\u001b[0m     \u001b[38;5;28;01mraise\u001b[39;00m \u001b[38;5;167;01mValueError\u001b[39;00m(\u001b[38;5;124m\"\u001b[39m\u001b[38;5;124mmetadata not supported for raw/rgba\u001b[39m\u001b[38;5;124m\"\u001b[39m)\n\u001b[1;32m--> 433\u001b[0m \u001b[43mFigureCanvasAgg\u001b[49m\u001b[38;5;241;43m.\u001b[39;49m\u001b[43mdraw\u001b[49m\u001b[43m(\u001b[49m\u001b[38;5;28;43mself\u001b[39;49m\u001b[43m)\u001b[49m\n\u001b[0;32m    434\u001b[0m renderer \u001b[38;5;241m=\u001b[39m \u001b[38;5;28mself\u001b[39m\u001b[38;5;241m.\u001b[39mget_renderer()\n\u001b[0;32m    435\u001b[0m \u001b[38;5;28;01mwith\u001b[39;00m cbook\u001b[38;5;241m.\u001b[39mopen_file_cm(filename_or_obj, \u001b[38;5;124m\"\u001b[39m\u001b[38;5;124mwb\u001b[39m\u001b[38;5;124m\"\u001b[39m) \u001b[38;5;28;01mas\u001b[39;00m fh:\n",
      "File \u001b[1;32m~\\AppData\\Local\\Packages\\PythonSoftwareFoundation.Python.3.11_qbz5n2kfra8p0\\LocalCache\\local-packages\\Python311\\site-packages\\matplotlib\\backends\\backend_agg.py:388\u001b[0m, in \u001b[0;36mFigureCanvasAgg.draw\u001b[1;34m(self)\u001b[0m\n\u001b[0;32m    385\u001b[0m \u001b[38;5;66;03m# Acquire a lock on the shared font cache.\u001b[39;00m\n\u001b[0;32m    386\u001b[0m \u001b[38;5;28;01mwith\u001b[39;00m (\u001b[38;5;28mself\u001b[39m\u001b[38;5;241m.\u001b[39mtoolbar\u001b[38;5;241m.\u001b[39m_wait_cursor_for_draw_cm() \u001b[38;5;28;01mif\u001b[39;00m \u001b[38;5;28mself\u001b[39m\u001b[38;5;241m.\u001b[39mtoolbar\n\u001b[0;32m    387\u001b[0m       \u001b[38;5;28;01melse\u001b[39;00m nullcontext()):\n\u001b[1;32m--> 388\u001b[0m     \u001b[38;5;28;43mself\u001b[39;49m\u001b[38;5;241;43m.\u001b[39;49m\u001b[43mfigure\u001b[49m\u001b[38;5;241;43m.\u001b[39;49m\u001b[43mdraw\u001b[49m\u001b[43m(\u001b[49m\u001b[38;5;28;43mself\u001b[39;49m\u001b[38;5;241;43m.\u001b[39;49m\u001b[43mrenderer\u001b[49m\u001b[43m)\u001b[49m\n\u001b[0;32m    389\u001b[0m     \u001b[38;5;66;03m# A GUI class may be need to update a window using this draw, so\u001b[39;00m\n\u001b[0;32m    390\u001b[0m     \u001b[38;5;66;03m# don't forget to call the superclass.\u001b[39;00m\n\u001b[0;32m    391\u001b[0m     \u001b[38;5;28msuper\u001b[39m()\u001b[38;5;241m.\u001b[39mdraw()\n",
      "File \u001b[1;32m~\\AppData\\Local\\Packages\\PythonSoftwareFoundation.Python.3.11_qbz5n2kfra8p0\\LocalCache\\local-packages\\Python311\\site-packages\\matplotlib\\artist.py:95\u001b[0m, in \u001b[0;36m_finalize_rasterization.<locals>.draw_wrapper\u001b[1;34m(artist, renderer, *args, **kwargs)\u001b[0m\n\u001b[0;32m     93\u001b[0m \u001b[38;5;129m@wraps\u001b[39m(draw)\n\u001b[0;32m     94\u001b[0m \u001b[38;5;28;01mdef\u001b[39;00m \u001b[38;5;21mdraw_wrapper\u001b[39m(artist, renderer, \u001b[38;5;241m*\u001b[39margs, \u001b[38;5;241m*\u001b[39m\u001b[38;5;241m*\u001b[39mkwargs):\n\u001b[1;32m---> 95\u001b[0m     result \u001b[38;5;241m=\u001b[39m \u001b[43mdraw\u001b[49m\u001b[43m(\u001b[49m\u001b[43martist\u001b[49m\u001b[43m,\u001b[49m\u001b[43m \u001b[49m\u001b[43mrenderer\u001b[49m\u001b[43m,\u001b[49m\u001b[43m \u001b[49m\u001b[38;5;241;43m*\u001b[39;49m\u001b[43margs\u001b[49m\u001b[43m,\u001b[49m\u001b[43m \u001b[49m\u001b[38;5;241;43m*\u001b[39;49m\u001b[38;5;241;43m*\u001b[39;49m\u001b[43mkwargs\u001b[49m\u001b[43m)\u001b[49m\n\u001b[0;32m     96\u001b[0m     \u001b[38;5;28;01mif\u001b[39;00m renderer\u001b[38;5;241m.\u001b[39m_rasterizing:\n\u001b[0;32m     97\u001b[0m         renderer\u001b[38;5;241m.\u001b[39mstop_rasterizing()\n",
      "File \u001b[1;32m~\\AppData\\Local\\Packages\\PythonSoftwareFoundation.Python.3.11_qbz5n2kfra8p0\\LocalCache\\local-packages\\Python311\\site-packages\\matplotlib\\artist.py:72\u001b[0m, in \u001b[0;36mallow_rasterization.<locals>.draw_wrapper\u001b[1;34m(artist, renderer)\u001b[0m\n\u001b[0;32m     69\u001b[0m     \u001b[38;5;28;01mif\u001b[39;00m artist\u001b[38;5;241m.\u001b[39mget_agg_filter() \u001b[38;5;129;01mis\u001b[39;00m \u001b[38;5;129;01mnot\u001b[39;00m \u001b[38;5;28;01mNone\u001b[39;00m:\n\u001b[0;32m     70\u001b[0m         renderer\u001b[38;5;241m.\u001b[39mstart_filter()\n\u001b[1;32m---> 72\u001b[0m     \u001b[38;5;28;01mreturn\u001b[39;00m \u001b[43mdraw\u001b[49m\u001b[43m(\u001b[49m\u001b[43martist\u001b[49m\u001b[43m,\u001b[49m\u001b[43m \u001b[49m\u001b[43mrenderer\u001b[49m\u001b[43m)\u001b[49m\n\u001b[0;32m     73\u001b[0m \u001b[38;5;28;01mfinally\u001b[39;00m:\n\u001b[0;32m     74\u001b[0m     \u001b[38;5;28;01mif\u001b[39;00m artist\u001b[38;5;241m.\u001b[39mget_agg_filter() \u001b[38;5;129;01mis\u001b[39;00m \u001b[38;5;129;01mnot\u001b[39;00m \u001b[38;5;28;01mNone\u001b[39;00m:\n",
      "File \u001b[1;32m~\\AppData\\Local\\Packages\\PythonSoftwareFoundation.Python.3.11_qbz5n2kfra8p0\\LocalCache\\local-packages\\Python311\\site-packages\\matplotlib\\figure.py:3154\u001b[0m, in \u001b[0;36mFigure.draw\u001b[1;34m(self, renderer)\u001b[0m\n\u001b[0;32m   3151\u001b[0m         \u001b[38;5;66;03m# ValueError can occur when resizing a window.\u001b[39;00m\n\u001b[0;32m   3153\u001b[0m \u001b[38;5;28mself\u001b[39m\u001b[38;5;241m.\u001b[39mpatch\u001b[38;5;241m.\u001b[39mdraw(renderer)\n\u001b[1;32m-> 3154\u001b[0m \u001b[43mmimage\u001b[49m\u001b[38;5;241;43m.\u001b[39;49m\u001b[43m_draw_list_compositing_images\u001b[49m\u001b[43m(\u001b[49m\n\u001b[0;32m   3155\u001b[0m \u001b[43m    \u001b[49m\u001b[43mrenderer\u001b[49m\u001b[43m,\u001b[49m\u001b[43m \u001b[49m\u001b[38;5;28;43mself\u001b[39;49m\u001b[43m,\u001b[49m\u001b[43m \u001b[49m\u001b[43martists\u001b[49m\u001b[43m,\u001b[49m\u001b[43m \u001b[49m\u001b[38;5;28;43mself\u001b[39;49m\u001b[38;5;241;43m.\u001b[39;49m\u001b[43msuppressComposite\u001b[49m\u001b[43m)\u001b[49m\n\u001b[0;32m   3157\u001b[0m \u001b[38;5;28;01mfor\u001b[39;00m sfig \u001b[38;5;129;01min\u001b[39;00m \u001b[38;5;28mself\u001b[39m\u001b[38;5;241m.\u001b[39msubfigs:\n\u001b[0;32m   3158\u001b[0m     sfig\u001b[38;5;241m.\u001b[39mdraw(renderer)\n",
      "File \u001b[1;32m~\\AppData\\Local\\Packages\\PythonSoftwareFoundation.Python.3.11_qbz5n2kfra8p0\\LocalCache\\local-packages\\Python311\\site-packages\\matplotlib\\image.py:132\u001b[0m, in \u001b[0;36m_draw_list_compositing_images\u001b[1;34m(renderer, parent, artists, suppress_composite)\u001b[0m\n\u001b[0;32m    130\u001b[0m \u001b[38;5;28;01mif\u001b[39;00m not_composite \u001b[38;5;129;01mor\u001b[39;00m \u001b[38;5;129;01mnot\u001b[39;00m has_images:\n\u001b[0;32m    131\u001b[0m     \u001b[38;5;28;01mfor\u001b[39;00m a \u001b[38;5;129;01min\u001b[39;00m artists:\n\u001b[1;32m--> 132\u001b[0m         \u001b[43ma\u001b[49m\u001b[38;5;241;43m.\u001b[39;49m\u001b[43mdraw\u001b[49m\u001b[43m(\u001b[49m\u001b[43mrenderer\u001b[49m\u001b[43m)\u001b[49m\n\u001b[0;32m    133\u001b[0m \u001b[38;5;28;01melse\u001b[39;00m:\n\u001b[0;32m    134\u001b[0m     \u001b[38;5;66;03m# Composite any adjacent images together\u001b[39;00m\n\u001b[0;32m    135\u001b[0m     image_group \u001b[38;5;241m=\u001b[39m []\n",
      "File \u001b[1;32m~\\AppData\\Local\\Packages\\PythonSoftwareFoundation.Python.3.11_qbz5n2kfra8p0\\LocalCache\\local-packages\\Python311\\site-packages\\matplotlib\\artist.py:72\u001b[0m, in \u001b[0;36mallow_rasterization.<locals>.draw_wrapper\u001b[1;34m(artist, renderer)\u001b[0m\n\u001b[0;32m     69\u001b[0m     \u001b[38;5;28;01mif\u001b[39;00m artist\u001b[38;5;241m.\u001b[39mget_agg_filter() \u001b[38;5;129;01mis\u001b[39;00m \u001b[38;5;129;01mnot\u001b[39;00m \u001b[38;5;28;01mNone\u001b[39;00m:\n\u001b[0;32m     70\u001b[0m         renderer\u001b[38;5;241m.\u001b[39mstart_filter()\n\u001b[1;32m---> 72\u001b[0m     \u001b[38;5;28;01mreturn\u001b[39;00m \u001b[43mdraw\u001b[49m\u001b[43m(\u001b[49m\u001b[43martist\u001b[49m\u001b[43m,\u001b[49m\u001b[43m \u001b[49m\u001b[43mrenderer\u001b[49m\u001b[43m)\u001b[49m\n\u001b[0;32m     73\u001b[0m \u001b[38;5;28;01mfinally\u001b[39;00m:\n\u001b[0;32m     74\u001b[0m     \u001b[38;5;28;01mif\u001b[39;00m artist\u001b[38;5;241m.\u001b[39mget_agg_filter() \u001b[38;5;129;01mis\u001b[39;00m \u001b[38;5;129;01mnot\u001b[39;00m \u001b[38;5;28;01mNone\u001b[39;00m:\n",
      "File \u001b[1;32m~\\AppData\\Local\\Packages\\PythonSoftwareFoundation.Python.3.11_qbz5n2kfra8p0\\LocalCache\\local-packages\\Python311\\site-packages\\matplotlib\\axes\\_base.py:3070\u001b[0m, in \u001b[0;36m_AxesBase.draw\u001b[1;34m(self, renderer)\u001b[0m\n\u001b[0;32m   3067\u001b[0m \u001b[38;5;28;01mif\u001b[39;00m artists_rasterized:\n\u001b[0;32m   3068\u001b[0m     _draw_rasterized(\u001b[38;5;28mself\u001b[39m\u001b[38;5;241m.\u001b[39mfigure, artists_rasterized, renderer)\n\u001b[1;32m-> 3070\u001b[0m \u001b[43mmimage\u001b[49m\u001b[38;5;241;43m.\u001b[39;49m\u001b[43m_draw_list_compositing_images\u001b[49m\u001b[43m(\u001b[49m\n\u001b[0;32m   3071\u001b[0m \u001b[43m    \u001b[49m\u001b[43mrenderer\u001b[49m\u001b[43m,\u001b[49m\u001b[43m \u001b[49m\u001b[38;5;28;43mself\u001b[39;49m\u001b[43m,\u001b[49m\u001b[43m \u001b[49m\u001b[43martists\u001b[49m\u001b[43m,\u001b[49m\u001b[43m \u001b[49m\u001b[38;5;28;43mself\u001b[39;49m\u001b[38;5;241;43m.\u001b[39;49m\u001b[43mfigure\u001b[49m\u001b[38;5;241;43m.\u001b[39;49m\u001b[43msuppressComposite\u001b[49m\u001b[43m)\u001b[49m\n\u001b[0;32m   3073\u001b[0m renderer\u001b[38;5;241m.\u001b[39mclose_group(\u001b[38;5;124m'\u001b[39m\u001b[38;5;124maxes\u001b[39m\u001b[38;5;124m'\u001b[39m)\n\u001b[0;32m   3074\u001b[0m \u001b[38;5;28mself\u001b[39m\u001b[38;5;241m.\u001b[39mstale \u001b[38;5;241m=\u001b[39m \u001b[38;5;28;01mFalse\u001b[39;00m\n",
      "File \u001b[1;32m~\\AppData\\Local\\Packages\\PythonSoftwareFoundation.Python.3.11_qbz5n2kfra8p0\\LocalCache\\local-packages\\Python311\\site-packages\\matplotlib\\image.py:132\u001b[0m, in \u001b[0;36m_draw_list_compositing_images\u001b[1;34m(renderer, parent, artists, suppress_composite)\u001b[0m\n\u001b[0;32m    130\u001b[0m \u001b[38;5;28;01mif\u001b[39;00m not_composite \u001b[38;5;129;01mor\u001b[39;00m \u001b[38;5;129;01mnot\u001b[39;00m has_images:\n\u001b[0;32m    131\u001b[0m     \u001b[38;5;28;01mfor\u001b[39;00m a \u001b[38;5;129;01min\u001b[39;00m artists:\n\u001b[1;32m--> 132\u001b[0m         \u001b[43ma\u001b[49m\u001b[38;5;241;43m.\u001b[39;49m\u001b[43mdraw\u001b[49m\u001b[43m(\u001b[49m\u001b[43mrenderer\u001b[49m\u001b[43m)\u001b[49m\n\u001b[0;32m    133\u001b[0m \u001b[38;5;28;01melse\u001b[39;00m:\n\u001b[0;32m    134\u001b[0m     \u001b[38;5;66;03m# Composite any adjacent images together\u001b[39;00m\n\u001b[0;32m    135\u001b[0m     image_group \u001b[38;5;241m=\u001b[39m []\n",
      "File \u001b[1;32m~\\AppData\\Local\\Packages\\PythonSoftwareFoundation.Python.3.11_qbz5n2kfra8p0\\LocalCache\\local-packages\\Python311\\site-packages\\matplotlib\\artist.py:72\u001b[0m, in \u001b[0;36mallow_rasterization.<locals>.draw_wrapper\u001b[1;34m(artist, renderer)\u001b[0m\n\u001b[0;32m     69\u001b[0m     \u001b[38;5;28;01mif\u001b[39;00m artist\u001b[38;5;241m.\u001b[39mget_agg_filter() \u001b[38;5;129;01mis\u001b[39;00m \u001b[38;5;129;01mnot\u001b[39;00m \u001b[38;5;28;01mNone\u001b[39;00m:\n\u001b[0;32m     70\u001b[0m         renderer\u001b[38;5;241m.\u001b[39mstart_filter()\n\u001b[1;32m---> 72\u001b[0m     \u001b[38;5;28;01mreturn\u001b[39;00m \u001b[43mdraw\u001b[49m\u001b[43m(\u001b[49m\u001b[43martist\u001b[49m\u001b[43m,\u001b[49m\u001b[43m \u001b[49m\u001b[43mrenderer\u001b[49m\u001b[43m)\u001b[49m\n\u001b[0;32m     73\u001b[0m \u001b[38;5;28;01mfinally\u001b[39;00m:\n\u001b[0;32m     74\u001b[0m     \u001b[38;5;28;01mif\u001b[39;00m artist\u001b[38;5;241m.\u001b[39mget_agg_filter() \u001b[38;5;129;01mis\u001b[39;00m \u001b[38;5;129;01mnot\u001b[39;00m \u001b[38;5;28;01mNone\u001b[39;00m:\n",
      "File \u001b[1;32m~\\AppData\\Local\\Packages\\PythonSoftwareFoundation.Python.3.11_qbz5n2kfra8p0\\LocalCache\\local-packages\\Python311\\site-packages\\matplotlib\\axis.py:1391\u001b[0m, in \u001b[0;36mAxis.draw\u001b[1;34m(self, renderer, *args, **kwargs)\u001b[0m\n\u001b[0;32m   1388\u001b[0m tlb1, tlb2 \u001b[38;5;241m=\u001b[39m \u001b[38;5;28mself\u001b[39m\u001b[38;5;241m.\u001b[39m_get_ticklabel_bboxes(ticks_to_draw, renderer)\n\u001b[0;32m   1390\u001b[0m \u001b[38;5;28;01mfor\u001b[39;00m tick \u001b[38;5;129;01min\u001b[39;00m ticks_to_draw:\n\u001b[1;32m-> 1391\u001b[0m     \u001b[43mtick\u001b[49m\u001b[38;5;241;43m.\u001b[39;49m\u001b[43mdraw\u001b[49m\u001b[43m(\u001b[49m\u001b[43mrenderer\u001b[49m\u001b[43m)\u001b[49m\n\u001b[0;32m   1393\u001b[0m \u001b[38;5;66;03m# Shift label away from axes to avoid overlapping ticklabels.\u001b[39;00m\n\u001b[0;32m   1394\u001b[0m \u001b[38;5;28mself\u001b[39m\u001b[38;5;241m.\u001b[39m_update_label_position(renderer)\n",
      "File \u001b[1;32m~\\AppData\\Local\\Packages\\PythonSoftwareFoundation.Python.3.11_qbz5n2kfra8p0\\LocalCache\\local-packages\\Python311\\site-packages\\matplotlib\\artist.py:72\u001b[0m, in \u001b[0;36mallow_rasterization.<locals>.draw_wrapper\u001b[1;34m(artist, renderer)\u001b[0m\n\u001b[0;32m     69\u001b[0m     \u001b[38;5;28;01mif\u001b[39;00m artist\u001b[38;5;241m.\u001b[39mget_agg_filter() \u001b[38;5;129;01mis\u001b[39;00m \u001b[38;5;129;01mnot\u001b[39;00m \u001b[38;5;28;01mNone\u001b[39;00m:\n\u001b[0;32m     70\u001b[0m         renderer\u001b[38;5;241m.\u001b[39mstart_filter()\n\u001b[1;32m---> 72\u001b[0m     \u001b[38;5;28;01mreturn\u001b[39;00m \u001b[43mdraw\u001b[49m\u001b[43m(\u001b[49m\u001b[43martist\u001b[49m\u001b[43m,\u001b[49m\u001b[43m \u001b[49m\u001b[43mrenderer\u001b[49m\u001b[43m)\u001b[49m\n\u001b[0;32m     73\u001b[0m \u001b[38;5;28;01mfinally\u001b[39;00m:\n\u001b[0;32m     74\u001b[0m     \u001b[38;5;28;01mif\u001b[39;00m artist\u001b[38;5;241m.\u001b[39mget_agg_filter() \u001b[38;5;129;01mis\u001b[39;00m \u001b[38;5;129;01mnot\u001b[39;00m \u001b[38;5;28;01mNone\u001b[39;00m:\n",
      "File \u001b[1;32m~\\AppData\\Local\\Packages\\PythonSoftwareFoundation.Python.3.11_qbz5n2kfra8p0\\LocalCache\\local-packages\\Python311\\site-packages\\matplotlib\\axis.py:295\u001b[0m, in \u001b[0;36mTick.draw\u001b[1;34m(self, renderer)\u001b[0m\n\u001b[0;32m    292\u001b[0m renderer\u001b[38;5;241m.\u001b[39mopen_group(\u001b[38;5;28mself\u001b[39m\u001b[38;5;241m.\u001b[39m\u001b[38;5;18m__name__\u001b[39m, gid\u001b[38;5;241m=\u001b[39m\u001b[38;5;28mself\u001b[39m\u001b[38;5;241m.\u001b[39mget_gid())\n\u001b[0;32m    293\u001b[0m \u001b[38;5;28;01mfor\u001b[39;00m artist \u001b[38;5;129;01min\u001b[39;00m [\u001b[38;5;28mself\u001b[39m\u001b[38;5;241m.\u001b[39mgridline, \u001b[38;5;28mself\u001b[39m\u001b[38;5;241m.\u001b[39mtick1line, \u001b[38;5;28mself\u001b[39m\u001b[38;5;241m.\u001b[39mtick2line,\n\u001b[0;32m    294\u001b[0m                \u001b[38;5;28mself\u001b[39m\u001b[38;5;241m.\u001b[39mlabel1, \u001b[38;5;28mself\u001b[39m\u001b[38;5;241m.\u001b[39mlabel2]:\n\u001b[1;32m--> 295\u001b[0m     \u001b[43martist\u001b[49m\u001b[38;5;241;43m.\u001b[39;49m\u001b[43mdraw\u001b[49m\u001b[43m(\u001b[49m\u001b[43mrenderer\u001b[49m\u001b[43m)\u001b[49m\n\u001b[0;32m    296\u001b[0m renderer\u001b[38;5;241m.\u001b[39mclose_group(\u001b[38;5;28mself\u001b[39m\u001b[38;5;241m.\u001b[39m\u001b[38;5;18m__name__\u001b[39m)\n\u001b[0;32m    297\u001b[0m \u001b[38;5;28mself\u001b[39m\u001b[38;5;241m.\u001b[39mstale \u001b[38;5;241m=\u001b[39m \u001b[38;5;28;01mFalse\u001b[39;00m\n",
      "File \u001b[1;32m~\\AppData\\Local\\Packages\\PythonSoftwareFoundation.Python.3.11_qbz5n2kfra8p0\\LocalCache\\local-packages\\Python311\\site-packages\\matplotlib\\artist.py:72\u001b[0m, in \u001b[0;36mallow_rasterization.<locals>.draw_wrapper\u001b[1;34m(artist, renderer)\u001b[0m\n\u001b[0;32m     69\u001b[0m     \u001b[38;5;28;01mif\u001b[39;00m artist\u001b[38;5;241m.\u001b[39mget_agg_filter() \u001b[38;5;129;01mis\u001b[39;00m \u001b[38;5;129;01mnot\u001b[39;00m \u001b[38;5;28;01mNone\u001b[39;00m:\n\u001b[0;32m     70\u001b[0m         renderer\u001b[38;5;241m.\u001b[39mstart_filter()\n\u001b[1;32m---> 72\u001b[0m     \u001b[38;5;28;01mreturn\u001b[39;00m \u001b[43mdraw\u001b[49m\u001b[43m(\u001b[49m\u001b[43martist\u001b[49m\u001b[43m,\u001b[49m\u001b[43m \u001b[49m\u001b[43mrenderer\u001b[49m\u001b[43m)\u001b[49m\n\u001b[0;32m     73\u001b[0m \u001b[38;5;28;01mfinally\u001b[39;00m:\n\u001b[0;32m     74\u001b[0m     \u001b[38;5;28;01mif\u001b[39;00m artist\u001b[38;5;241m.\u001b[39mget_agg_filter() \u001b[38;5;129;01mis\u001b[39;00m \u001b[38;5;129;01mnot\u001b[39;00m \u001b[38;5;28;01mNone\u001b[39;00m:\n",
      "File \u001b[1;32m~\\AppData\\Local\\Packages\\PythonSoftwareFoundation.Python.3.11_qbz5n2kfra8p0\\LocalCache\\local-packages\\Python311\\site-packages\\matplotlib\\text.py:755\u001b[0m, in \u001b[0;36mText.draw\u001b[1;34m(self, renderer)\u001b[0m\n\u001b[0;32m    753\u001b[0m posx \u001b[38;5;241m=\u001b[39m \u001b[38;5;28mfloat\u001b[39m(\u001b[38;5;28mself\u001b[39m\u001b[38;5;241m.\u001b[39mconvert_xunits(\u001b[38;5;28mself\u001b[39m\u001b[38;5;241m.\u001b[39m_x))\n\u001b[0;32m    754\u001b[0m posy \u001b[38;5;241m=\u001b[39m \u001b[38;5;28mfloat\u001b[39m(\u001b[38;5;28mself\u001b[39m\u001b[38;5;241m.\u001b[39mconvert_yunits(\u001b[38;5;28mself\u001b[39m\u001b[38;5;241m.\u001b[39m_y))\n\u001b[1;32m--> 755\u001b[0m posx, posy \u001b[38;5;241m=\u001b[39m \u001b[43mtrans\u001b[49m\u001b[38;5;241;43m.\u001b[39;49m\u001b[43mtransform\u001b[49m\u001b[43m(\u001b[49m\u001b[43m(\u001b[49m\u001b[43mposx\u001b[49m\u001b[43m,\u001b[49m\u001b[43m \u001b[49m\u001b[43mposy\u001b[49m\u001b[43m)\u001b[49m\u001b[43m)\u001b[49m\n\u001b[0;32m    756\u001b[0m \u001b[38;5;28;01mif\u001b[39;00m \u001b[38;5;129;01mnot\u001b[39;00m np\u001b[38;5;241m.\u001b[39misfinite(posx) \u001b[38;5;129;01mor\u001b[39;00m \u001b[38;5;129;01mnot\u001b[39;00m np\u001b[38;5;241m.\u001b[39misfinite(posy):\n\u001b[0;32m    757\u001b[0m     _log\u001b[38;5;241m.\u001b[39mwarning(\u001b[38;5;124m\"\u001b[39m\u001b[38;5;124mposx and posy should be finite values\u001b[39m\u001b[38;5;124m\"\u001b[39m)\n",
      "File \u001b[1;32m~\\AppData\\Local\\Packages\\PythonSoftwareFoundation.Python.3.11_qbz5n2kfra8p0\\LocalCache\\local-packages\\Python311\\site-packages\\matplotlib\\transforms.py:1495\u001b[0m, in \u001b[0;36mTransform.transform\u001b[1;34m(self, values)\u001b[0m\n\u001b[0;32m   1492\u001b[0m values \u001b[38;5;241m=\u001b[39m values\u001b[38;5;241m.\u001b[39mreshape((\u001b[38;5;241m-\u001b[39m\u001b[38;5;241m1\u001b[39m, \u001b[38;5;28mself\u001b[39m\u001b[38;5;241m.\u001b[39minput_dims))\n\u001b[0;32m   1494\u001b[0m \u001b[38;5;66;03m# Transform the values\u001b[39;00m\n\u001b[1;32m-> 1495\u001b[0m res \u001b[38;5;241m=\u001b[39m \u001b[38;5;28;43mself\u001b[39;49m\u001b[38;5;241;43m.\u001b[39;49m\u001b[43mtransform_affine\u001b[49m\u001b[43m(\u001b[49m\u001b[38;5;28;43mself\u001b[39;49m\u001b[38;5;241;43m.\u001b[39;49m\u001b[43mtransform_non_affine\u001b[49m\u001b[43m(\u001b[49m\u001b[43mvalues\u001b[49m\u001b[43m)\u001b[49m\u001b[43m)\u001b[49m\n\u001b[0;32m   1497\u001b[0m \u001b[38;5;66;03m# Convert the result back to the shape of the input values.\u001b[39;00m\n\u001b[0;32m   1498\u001b[0m \u001b[38;5;28;01mif\u001b[39;00m ndim \u001b[38;5;241m==\u001b[39m \u001b[38;5;241m0\u001b[39m:\n",
      "File \u001b[1;32m~\\AppData\\Local\\Packages\\PythonSoftwareFoundation.Python.3.11_qbz5n2kfra8p0\\LocalCache\\local-packages\\Python311\\site-packages\\matplotlib\\_api\\deprecation.py:297\u001b[0m, in \u001b[0;36mrename_parameter.<locals>.wrapper\u001b[1;34m(*args, **kwargs)\u001b[0m\n\u001b[0;32m    292\u001b[0m     warn_deprecated(\n\u001b[0;32m    293\u001b[0m         since, message\u001b[38;5;241m=\u001b[39m\u001b[38;5;124mf\u001b[39m\u001b[38;5;124m\"\u001b[39m\u001b[38;5;124mThe \u001b[39m\u001b[38;5;132;01m{\u001b[39;00mold\u001b[38;5;132;01m!r}\u001b[39;00m\u001b[38;5;124m parameter of \u001b[39m\u001b[38;5;132;01m{\u001b[39;00mfunc\u001b[38;5;241m.\u001b[39m\u001b[38;5;18m__name__\u001b[39m\u001b[38;5;132;01m}\u001b[39;00m\u001b[38;5;124m() \u001b[39m\u001b[38;5;124m\"\u001b[39m\n\u001b[0;32m    294\u001b[0m         \u001b[38;5;124mf\u001b[39m\u001b[38;5;124m\"\u001b[39m\u001b[38;5;124mhas been renamed \u001b[39m\u001b[38;5;132;01m{\u001b[39;00mnew\u001b[38;5;132;01m!r}\u001b[39;00m\u001b[38;5;124m since Matplotlib \u001b[39m\u001b[38;5;132;01m{\u001b[39;00msince\u001b[38;5;132;01m}\u001b[39;00m\u001b[38;5;124m; support \u001b[39m\u001b[38;5;124m\"\u001b[39m\n\u001b[0;32m    295\u001b[0m         \u001b[38;5;124mf\u001b[39m\u001b[38;5;124m\"\u001b[39m\u001b[38;5;124mfor the old name will be dropped %(removal)s.\u001b[39m\u001b[38;5;124m\"\u001b[39m)\n\u001b[0;32m    296\u001b[0m     kwargs[new] \u001b[38;5;241m=\u001b[39m kwargs\u001b[38;5;241m.\u001b[39mpop(old)\n\u001b[1;32m--> 297\u001b[0m \u001b[38;5;28;01mreturn\u001b[39;00m \u001b[43mfunc\u001b[49m\u001b[43m(\u001b[49m\u001b[38;5;241;43m*\u001b[39;49m\u001b[43margs\u001b[49m\u001b[43m,\u001b[49m\u001b[43m \u001b[49m\u001b[38;5;241;43m*\u001b[39;49m\u001b[38;5;241;43m*\u001b[39;49m\u001b[43mkwargs\u001b[49m\u001b[43m)\u001b[49m\n",
      "File \u001b[1;32m~\\AppData\\Local\\Packages\\PythonSoftwareFoundation.Python.3.11_qbz5n2kfra8p0\\LocalCache\\local-packages\\Python311\\site-packages\\matplotlib\\transforms.py:2409\u001b[0m, in \u001b[0;36mCompositeGenericTransform.transform_affine\u001b[1;34m(self, values)\u001b[0m\n\u001b[0;32m   2406\u001b[0m \u001b[38;5;129m@_api\u001b[39m\u001b[38;5;241m.\u001b[39mrename_parameter(\u001b[38;5;124m\"\u001b[39m\u001b[38;5;124m3.8\u001b[39m\u001b[38;5;124m\"\u001b[39m, \u001b[38;5;124m\"\u001b[39m\u001b[38;5;124mpoints\u001b[39m\u001b[38;5;124m\"\u001b[39m, \u001b[38;5;124m\"\u001b[39m\u001b[38;5;124mvalues\u001b[39m\u001b[38;5;124m\"\u001b[39m)\n\u001b[0;32m   2407\u001b[0m \u001b[38;5;28;01mdef\u001b[39;00m \u001b[38;5;21mtransform_affine\u001b[39m(\u001b[38;5;28mself\u001b[39m, values):\n\u001b[0;32m   2408\u001b[0m     \u001b[38;5;66;03m# docstring inherited\u001b[39;00m\n\u001b[1;32m-> 2409\u001b[0m     \u001b[38;5;28;01mreturn\u001b[39;00m \u001b[38;5;28;43mself\u001b[39;49m\u001b[38;5;241;43m.\u001b[39;49m\u001b[43mget_affine\u001b[49m\u001b[43m(\u001b[49m\u001b[43m)\u001b[49m\u001b[38;5;241m.\u001b[39mtransform(values)\n",
      "File \u001b[1;32m~\\AppData\\Local\\Packages\\PythonSoftwareFoundation.Python.3.11_qbz5n2kfra8p0\\LocalCache\\local-packages\\Python311\\site-packages\\matplotlib\\transforms.py:2436\u001b[0m, in \u001b[0;36mCompositeGenericTransform.get_affine\u001b[1;34m(self)\u001b[0m\n\u001b[0;32m   2434\u001b[0m     \u001b[38;5;28;01mreturn\u001b[39;00m \u001b[38;5;28mself\u001b[39m\u001b[38;5;241m.\u001b[39m_b\u001b[38;5;241m.\u001b[39mget_affine()\n\u001b[0;32m   2435\u001b[0m \u001b[38;5;28;01melse\u001b[39;00m:\n\u001b[1;32m-> 2436\u001b[0m     \u001b[38;5;28;01mreturn\u001b[39;00m \u001b[43mAffine2D\u001b[49m\u001b[43m(\u001b[49m\u001b[43mnp\u001b[49m\u001b[38;5;241;43m.\u001b[39;49m\u001b[43mdot\u001b[49m\u001b[43m(\u001b[49m\u001b[38;5;28;43mself\u001b[39;49m\u001b[38;5;241;43m.\u001b[39;49m\u001b[43m_b\u001b[49m\u001b[38;5;241;43m.\u001b[39;49m\u001b[43mget_affine\u001b[49m\u001b[43m(\u001b[49m\u001b[43m)\u001b[49m\u001b[38;5;241;43m.\u001b[39;49m\u001b[43mget_matrix\u001b[49m\u001b[43m(\u001b[49m\u001b[43m)\u001b[49m\u001b[43m,\u001b[49m\n\u001b[0;32m   2437\u001b[0m \u001b[43m                           \u001b[49m\u001b[38;5;28;43mself\u001b[39;49m\u001b[38;5;241;43m.\u001b[39;49m\u001b[43m_a\u001b[49m\u001b[38;5;241;43m.\u001b[39;49m\u001b[43mget_affine\u001b[49m\u001b[43m(\u001b[49m\u001b[43m)\u001b[49m\u001b[38;5;241;43m.\u001b[39;49m\u001b[43mget_matrix\u001b[49m\u001b[43m(\u001b[49m\u001b[43m)\u001b[49m\u001b[43m)\u001b[49m\u001b[43m)\u001b[49m\n",
      "File \u001b[1;32m~\\AppData\\Local\\Packages\\PythonSoftwareFoundation.Python.3.11_qbz5n2kfra8p0\\LocalCache\\local-packages\\Python311\\site-packages\\matplotlib\\transforms.py:1903\u001b[0m, in \u001b[0;36mAffine2D.__init__\u001b[1;34m(self, matrix, **kwargs)\u001b[0m\n\u001b[0;32m   1900\u001b[0m \u001b[38;5;28;01mif\u001b[39;00m matrix \u001b[38;5;129;01mis\u001b[39;00m \u001b[38;5;28;01mNone\u001b[39;00m:\n\u001b[0;32m   1901\u001b[0m     \u001b[38;5;66;03m# A bit faster than np.identity(3).\u001b[39;00m\n\u001b[0;32m   1902\u001b[0m     matrix \u001b[38;5;241m=\u001b[39m IdentityTransform\u001b[38;5;241m.\u001b[39m_mtx\n\u001b[1;32m-> 1903\u001b[0m \u001b[38;5;28mself\u001b[39m\u001b[38;5;241m.\u001b[39m_mtx \u001b[38;5;241m=\u001b[39m matrix\u001b[38;5;241m.\u001b[39mcopy()\n\u001b[0;32m   1904\u001b[0m \u001b[38;5;28mself\u001b[39m\u001b[38;5;241m.\u001b[39m_invalid \u001b[38;5;241m=\u001b[39m \u001b[38;5;241m0\u001b[39m\n",
      "\u001b[1;31mKeyboardInterrupt\u001b[0m: "
     ]
    },
    {
     "data": {
      "image/png": "[encoded data removed]",
      "text/plain": [
       "<Figure size 640x480 with 1 Axes>"
      ]
     },
     "metadata": {},
     "output_type": "display_data"
    }
   ],
   "source": [
    "import sys\n",
    "sys.path.append('../multiple_linear_regression/')\n",
    "from mlr import LinearRegression\n",
    "\n",
    "# train_size = 500\n",
    "# test_size = 199\n",
    "\n",
    "# data['Extracurricular Activities'] = data['Extracurricular Activities'].map({'Yes': 1, 'No': 0})\n",
    "# train_input = np.array(data[['Hours Studied', 'Previous Scores', 'Extracurricular Activities', 'Sleep Hours', 'Sample Question Papers Practiced']][:train_size]).reshape(train_size, 5)\n",
    "# train_output = np.array(data['Performance Index'][:train_size]).reshape(train_size, 1)\n",
    "\n",
    "# print(\"Train input shape:\", train_input.shape)\n",
    "# print(\"Train output shape:\", train_output.shape)\n",
    "\n",
    "# test_input = np.array(data[['Hours Studied', 'Previous Scores', 'Extracurricular Activities', 'Sleep Hours', 'Sample Question Papers Practiced']][train_size:train_size+test_size]).reshape(test_size, 5)\n",
    "# test_output = np.array(data['Performance Index'][train_size:train_size+test_size]).reshape(test_size, 1)\n",
    "\n",
    "# print(\"Test input shape:\", test_input.shape)\n",
    "# print(\"Test output shape:\", test_output.shape)\n",
    "\n",
    "# model = LinearRegression(train_input, train_output)\n",
    "# parameters, bias, loss = model.train(learning_rate=0.0001, iters=50)\n",
    "\n",
    "# accuracy = model.accuracy(test_input, test_output)\n",
    "\n",
    "# print(f'Accuracy: {accuracy}')\n",
    "\n",
    "model = LinearRegression(X_train, y_train)\n",
    "\n",
    "parameters, bias, loss = model.train(learning_rate=0.00001, iters=100000)\n",
    "\n",
    "accuracy = model.accuracy(X_test, y_test)\n",
    "\n",
    "print(f'Accuracy: {accuracy}')\n",
    "\n",
    "print(X_test[0:1], y_test[0:1])\n",
    "print(model.predict(X_test[0:1]))\n"
   ]
  },
  {
   "cell_type": "code",
   "execution_count": 51,
   "metadata": {},
   "outputs": [
    {
     "name": "stdout",
     "output_type": "stream",
     "text": [
      "Accuracy: 0.004483672798438976\n"
     ]
    }
   ],
   "source": [
    "from sklearn.linear_model import LinearRegression\n",
    "\n",
    "# Create an instance of the LinearRegression class\n",
    "model = LinearRegression()\n",
    "\n",
    "# Train the model\n",
    "model.fit(X_train, y_train)\n",
    "\n",
    "# Make predictions\n",
    "predictions = model.predict(X_test)\n",
    "\n",
    "# Calculate the accuracy of the model\n",
    "accuracy = model.score(X_test, y_test)\n",
    "\n",
    "print(f'Accuracy: {accuracy}')\n"
   ]
  },
  {
   "cell_type": "code",
   "execution_count": 99,
   "metadata": {},
   "outputs": [
    {
     "ename": "ModuleNotFoundError",
     "evalue": "No module named 'sklearn.nonlinear_model'",
     "output_type": "error",
     "traceback": [
      "\u001b[1;31m---------------------------------------------------------------------------\u001b[0m",
      "\u001b[1;31mModuleNotFoundError\u001b[0m                       Traceback (most recent call last)",
      "Cell \u001b[1;32mIn[99], line 1\u001b[0m\n\u001b[1;32m----> 1\u001b[0m \u001b[38;5;28;01mfrom\u001b[39;00m \u001b[38;5;21;01msklearn\u001b[39;00m\u001b[38;5;21;01m.\u001b[39;00m\u001b[38;5;21;01mnonlinear_model\u001b[39;00m \u001b[38;5;28;01mimport\u001b[39;00m PolynomialRegression\n",
      "\u001b[1;31mModuleNotFoundError\u001b[0m: No module named 'sklearn.nonlinear_model'"
     ]
    }
   ],
   "source": [
    "# import sklearn polynomial regression\n",
    "from sklearn.preprocessing import PolynomialFeatures\n",
    "from sklearn.linear_model import LinearRegression\n",
    "# Create an instance of the PolynomialFeatures class\n",
    "poly = PolynomialFeatures(degree=10)\n",
    "\n",
    "# Transform the input data\n",
    "X_train_poly = poly.fit_transform(X_train)  \n",
    "X_test_poly = poly.fit_transform(X_test)\n",
    "poly_model = LinearRegression()\n",
    "\n",
    "# Train the model\n",
    "poly_model.fit(X_train_poly, y_train)\n",
    "\n",
    "\n"
   ]
  },
  {
   "cell_type": "code",
   "execution_count": null,
   "metadata": {},
   "outputs": [],
   "source": []
  }
 ],
 "metadata": {
  "kernelspec": {
   "display_name": "Python 3",
   "language": "python",
   "name": "python3"
  },
  "language_info": {
   "codemirror_mode": {
    "name": "ipython",
    "version": 3
   },
   "file_extension": ".py",
   "mimetype": "text/x-python",
   "name": "python",
   "nbconvert_exporter": "python",
   "pygments_lexer": "ipython3",
   "version": "3.11.9"
  }
 },
 "nbformat": 4,
 "nbformat_minor": 2
}
